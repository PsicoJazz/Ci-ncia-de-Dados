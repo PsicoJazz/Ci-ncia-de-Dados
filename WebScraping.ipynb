{
  "nbformat": 4,
  "nbformat_minor": 0,
  "metadata": {
    "colab": {
      "provenance": [],
      "authorship_tag": "ABX9TyN/UxZDl/gFOzVtQmqR1KI+",
      "include_colab_link": true
    },
    "kernelspec": {
      "name": "python3",
      "display_name": "Python 3"
    },
    "language_info": {
      "name": "python"
    }
  },
  "cells": [
    {
      "cell_type": "markdown",
      "metadata": {
        "id": "view-in-github",
        "colab_type": "text"
      },
      "source": [
        "<a href=\"https://colab.research.google.com/github/PsicoJazz/Ciencia-de-Dados/blob/main/WebScraping.ipynb\" target=\"_parent\"><img src=\"https://colab.research.google.com/assets/colab-badge.svg\" alt=\"Open In Colab\"/></a>"
      ]
    },
    {
      "cell_type": "code",
      "execution_count": null,
      "metadata": {
        "id": "XPDuInH9UITd"
      },
      "outputs": [],
      "source": [
        "import pandas as pd\n",
        "import requests\n",
        "from bs4 import BeautifulSoup"
      ]
    },
    {
      "cell_type": "code",
      "source": [
        "html = requests.get(\"https://sidra.ibge.gov.br/pesquisa/pnadct/tabelas\").content\n",
        "soup = BeautifulSoup(html, 'html5lib')"
      ],
      "metadata": {
        "id": "TrWM2FyEdZJ6"
      },
      "execution_count": null,
      "outputs": []
    },
    {
      "cell_type": "code",
      "source": [
        "primeiro_paragrafo = soup.find('p')\n",
        "primeiro_paragrafo"
      ],
      "metadata": {
        "colab": {
          "base_uri": "https://localhost:8080/"
        },
        "id": "dQuf24F_d1tL",
        "outputId": "3af41d48-8416-4df7-ded3-5f40359fd3fb"
      },
      "execution_count": null,
      "outputs": [
        {
          "output_type": "execute_result",
          "data": {
            "text/plain": [
              "<p>A PNAD Contínua visa a produzir indicadores para acompanhar as flutuações trimestrais e a evolução, a médio e longo prazos, da força de trabalho e outras informações necessárias para o estudo e desenvolvimento socioeconômico do País.</p>"
            ]
          },
          "metadata": {},
          "execution_count": 5
        }
      ]
    },
    {
      "cell_type": "code",
      "source": [
        "primeiro_paragrafo.text"
      ],
      "metadata": {
        "colab": {
          "base_uri": "https://localhost:8080/",
          "height": 53
        },
        "id": "0oyRe597eieP",
        "outputId": "1a7bd0c2-0208-43a1-a891-916d431af7f9"
      },
      "execution_count": null,
      "outputs": [
        {
          "output_type": "execute_result",
          "data": {
            "text/plain": [
              "'A PNAD Contínua visa a produzir indicadores para acompanhar as flutuações trimestrais e a evolução, a médio e longo prazos, da força de trabalho e outras informações necessárias para o estudo e desenvolvimento socioeconômico do País.'"
            ],
            "application/vnd.google.colaboratory.intrinsic+json": {
              "type": "string"
            }
          },
          "metadata": {},
          "execution_count": 6
        }
      ]
    },
    {
      "cell_type": "markdown",
      "source": [
        "# Buscar todos os paragrafos"
      ],
      "metadata": {
        "id": "xpRCfY_reqo3"
      }
    },
    {
      "cell_type": "code",
      "source": [
        "todos_paragrafos = soup.find_all('p')\n",
        "todos_paragrafos"
      ],
      "metadata": {
        "colab": {
          "base_uri": "https://localhost:8080/"
        },
        "id": "taweK27revYd",
        "outputId": "59b90e19-f1df-4182-bf9d-a1843328ec1d"
      },
      "execution_count": null,
      "outputs": [
        {
          "output_type": "execute_result",
          "data": {
            "text/plain": [
              "[<p>A PNAD Contínua visa a produzir indicadores para acompanhar as flutuações trimestrais e a evolução, a médio e longo prazos, da força de trabalho e outras informações necessárias para o estudo e desenvolvimento socioeconômico do País.</p>,\n",
              " <p>A PNAD Contínua incorpora em sua metodologia atualizações conceituais referentes ao tema trabalho, com base nas recomendações internacionais vigentes no momento da concepção da pesquisa, nas discussões preparatórias para a 19ª Conferência Internacional de Estatísticos do Trabalho - CIET, da OIT, e finalmente nas recomendações adotadas por esta Conferência, em outubro de 2013, sobre trabalho, ocupação e subutilização da força de trabalho. Cabe destacar que, durante o desenvolvimento da pesquisa, o IBGE contou com a assistência técnica da OIT.</p>,\n",
              " <p>A PNAD Contínua é parte do Sistema Integrado de Pesquisas Domiciliares - SIPD, que se constitui em um modelo de produção de pesquisas amostrais domiciliares no qual o planejamento, a execução, a análise e a disseminação dos resultados das diversas pesquisas são conduzidos de forma coordenada, facilitando o atendimento de novas demandas, bem como otimizando os recursos a serem utilizados. Destaca-se, entre outros aspectos, que a amostra de cada uma das pesquisas desse sistema corresponderá a uma parte ou à integralidade de uma amostra mestra, e os conceitos e os processos serão harmonizados entre elas.</p>,\n",
              " <p>Com a implantação desse sistema o IBGE iniciou uma importante etapa de aprimoramento no seu sistema de pesquisas domiciliares, que propicia maior eficácia diante de frequentes demandas por informações sobre as condições socioeconômicas e demográficas da população do País.</p>,\n",
              " <p>A abrangência geográfica da PNAD Contínua corresponde a todo o território nacional, excluídas áreas com características especiais.</p>,\n",
              " <p>As áreas com características especiais são aquelas classificadas na Base Operacional Geográfica do IBGE como setores de: aldeias indígenas, quartéis, bases militares, alojamentos, acampamentos, embarcações, barcos, navios, penitenciárias, colônias penais, presídios, cadeias, asilos, orfanatos, conventos, hospitais e agrovilas de projetos de assentamentos rurais, e também os setores censitários localizados em terras indígenas.</p>,\n",
              " <p>É a população constituída por todas as pessoas moradoras em domicílios particulares permanentes da área de abrangência da pesquisa.</p>,\n",
              " <p>A PNAD Contínua é realizada através de um painel rotacional, de forma que os domicílios selecionados para a amostra são pesquisados uma vez por trimestre, durante 5 trimestres consecutivos.</p>,\n",
              " <p>A PNAD Contínua produz informações Conjunturais, Estruturais e Especiais.</p>,\n",
              " <p>As informações Conjunturais estão separadas em dois grupos: Mensal e Trimestral.</p>,\n",
              " <p>A divulgação Mensal fornece informações sobre a evolução da força de trabalho apenas para o Brasil, atualizados mensalmente por meio de trimestres móveis. Assim, a cada mês são divulgadas informações referentes ao último trimestre móvel. Nesta divulgação são disponibilizadas informações básicas sobre a força de trabalho no País.</p>,\n",
              " <p>A divulgação Trimestral fornece informações completas e detalhadas sobre a força de trabalho para os níveis geográficos para os quais a pesquisa foi planejada: Brasil, Grandes Regiões, Unidades da Federação, Regiões Metropolitanas que contêm os municípios das capitais, Região Integrada de Desenvolvimento da Grande Teresina e municípios das capitais dos estados.</p>,\n",
              " <p>O quadro a seguir mostra como são divulgadas as informações conjunturais da pesquisa ao longo dos 12 meses do ano, totalizando 12 divulgações mensais (referente aos trimestres móveis) e 4 divulgações trimestrais (referentes aos trimestres convencionais).\n",
              "             </p>,\n",
              " <p></p>,\n",
              " <p><br/>As divulgações Estruturais e Especiais acontecem fora do âmbito conjuntural. Sua abrangência de divulgação e periodicidade são definidas de acordo com os interesses da temática que está sendo disponibilizada.</p>]"
            ]
          },
          "metadata": {},
          "execution_count": 8
        }
      ]
    },
    {
      "cell_type": "code",
      "source": [],
      "metadata": {
        "id": "IpMhiRO6fBlz"
      },
      "execution_count": null,
      "outputs": []
    },
    {
      "cell_type": "markdown",
      "source": [
        "Imprimir paragrafo específico"
      ],
      "metadata": {
        "id": "gKer0L9YfSFv"
      }
    },
    {
      "cell_type": "code",
      "source": [
        "todos_paragrafos[2]"
      ],
      "metadata": {
        "colab": {
          "base_uri": "https://localhost:8080/"
        },
        "id": "B35Or4DHfV8R",
        "outputId": "84afa38a-ca09-46fe-a47f-00a27f06bed7"
      },
      "execution_count": null,
      "outputs": [
        {
          "output_type": "execute_result",
          "data": {
            "text/plain": [
              "<p>A PNAD Contínua é parte do Sistema Integrado de Pesquisas Domiciliares - SIPD, que se constitui em um modelo de produção de pesquisas amostrais domiciliares no qual o planejamento, a execução, a análise e a disseminação dos resultados das diversas pesquisas são conduzidos de forma coordenada, facilitando o atendimento de novas demandas, bem como otimizando os recursos a serem utilizados. Destaca-se, entre outros aspectos, que a amostra de cada uma das pesquisas desse sistema corresponderá a uma parte ou à integralidade de uma amostra mestra, e os conceitos e os processos serão harmonizados entre elas.</p>"
            ]
          },
          "metadata": {},
          "execution_count": 10
        }
      ]
    },
    {
      "cell_type": "markdown",
      "source": [
        "# Pegar todos on links"
      ],
      "metadata": {
        "id": "_ECCGj9jfmeO"
      }
    },
    {
      "cell_type": "code",
      "source": [
        "todoslinks = soup.find_all('a')\n",
        "todoslinks"
      ],
      "metadata": {
        "colab": {
          "base_uri": "https://localhost:8080/"
        },
        "id": "ZKDbkduQfpBH",
        "outputId": "49b2b452-1d39-4f16-e65d-f173a2c3f16b"
      },
      "execution_count": null,
      "outputs": [
        {
          "output_type": "execute_result",
          "data": {
            "text/plain": [
              "[<a href=\"http://brasil.gov.br\" style=\"font-family:sans, sans-serif; text-decoration:none; color:white;\">Portal do Governo Brasileiro</a>,\n",
              " <a href=\"http://epwg.governoeletronico.gov.br/barra/atualize.html\" style=\"font-family:sans, sans-serif; text-decoration:none; color:white;\">Atualize sua Barra de Governo</a>,\n",
              " <a href=\"https://www.ibge.gov.br\">\n",
              "                     <div class=\"logo-ibge xs\"></div>\n",
              "                 </a>,\n",
              " <a href=\"/\">\n",
              "                             <div class=\"logo-img xs\"></div>\n",
              "                         </a>,\n",
              " <a class=\"dropdown-toggle\" data-toggle=\"dropdown\" href=\"#\">Pesquisas<b class=\"caret\"></b></a>,\n",
              " <a href=\"/pesquisa/pnadcm\">Pesquisa Nacional por Amostra de Domicílios Continua Mensal - PNADCM</a>,\n",
              " <a href=\"/pesquisa/pnadct\">Pesquisa Nacional por Amostra de Domicílios Continua Trimestral - PNADCT</a>,\n",
              " <a href=\"/pesquisa/pme\">Pesquisa Mensal de Emprego - PME (extinta)</a>,\n",
              " <a href=\"/pesquisa/estoques\">Pesquisa de Estoques - ESTOQUES</a>,\n",
              " <a href=\"/pesquisa/lspa\">Levantamento Sistemático da Produção Agrícola - LSPA</a>,\n",
              " <a href=\"/pesquisa/abate\">Pesquisa Trimestral do Abate de Animais - ABATE</a>,\n",
              " <a href=\"/pesquisa/couro\">Pesquisa Trimestral do Couro - COURO</a>,\n",
              " <a href=\"/pesquisa/leite\">Pesquisa Trimestral do Leite - LEITE</a>,\n",
              " <a href=\"/pesquisa/pog\">Produção de Ovos de Galinha - POG</a>,\n",
              " <a href=\"/pesquisa/pimes\">Pesquisa Industrial Mensal de Emprego e Salário - PIMES (extinta)</a>,\n",
              " <a href=\"/pesquisa/pim-pf-brasil\">Pesquisa Industrial Mensal - Produção Física - PIM-PF-Brasil</a>,\n",
              " <a href=\"/pesquisa/pim-pf-regional\">Pesquisa Industrial Mensal - Produção Física - PIM-PF-Regional</a>,\n",
              " <a href=\"/pesquisa/pmc\">Pesquisa Mensal de Comércio - PMC</a>,\n",
              " <a href=\"/pesquisa/pms\">Pesquisa Mensal de Serviços - PMS</a>,\n",
              " <a href=\"/pesquisa/ipp\">Índice de Preços ao Produtor - IPP</a>,\n",
              " <a href=\"/pesquisa/sinapi\">Sistema Nacional de Pesquisa de Custos e Índices da Construção Civil - SINAPI</a>,\n",
              " <a href=\"/pesquisa/snipc\">Índices de Preços ao Consumidor (IPCA, INPC e IPCA15) - SNIPC</a>,\n",
              " <a href=\"/pesquisa/cnt\">Contas Nacionais Trimestrais - CNT</a>,\n",
              " <a href=\"/pesquisa/censo-demografico\">Censo Demográfico - Censo-Demografico</a>,\n",
              " <a href=\"/pesquisa/registro-civil\">Estatísticas do Registro Civil - Registro-Civil</a>,\n",
              " <a href=\"/pesquisa/pnadca\">Pesquisa Nacional por Amostra de Domicílios Contínua Anual - PNADCA</a>,\n",
              " <a href=\"/pesquisa/pnad\">Pesquisa Nacional por Amostra de Domicílios - PNAD</a>,\n",
              " <a href=\"/pesquisa/estimapop\">Estimativas de População - EstimaPop</a>,\n",
              " <a href=\"/pesquisa/projecao-da-populacao\">Projeções da População</a>,\n",
              " <a href=\"/pesquisa/pof\">Pesquisa de Orçamentos Familiares - POF</a>,\n",
              " <a href=\"/pesquisa/pns\">Pesquisa Nacional de Saúde - PNS</a>,\n",
              " <a href=\"/pesquisa/ams\">Pesquisa Assistência Médico-Sanitária - AMS</a>,\n",
              " <a href=\"/pesquisa/pnsb\">Pesquisa Nacional de Saneamento Básico - PNSB</a>,\n",
              " <a href=\"/pesquisa/pense\">Pesquisa Nacional de Saúde do Escolar - PeNSE</a>,\n",
              " <a href=\"/pesquisa/munic\">Pesquisa de Informações Básicas Municipais - MUNIC</a>,\n",
              " <a href=\"/pesquisa/paic\">Pesquisa Anual da Indústria da Construção - PAIC</a>,\n",
              " <a href=\"/pesquisa/pia-empresa\">Pesquisa Industrial Anual - PIA-Empresa</a>,\n",
              " <a href=\"/pesquisa/pia-produto\">Pesquisa Industrial Anual - PIA-Produto</a>,\n",
              " <a href=\"/pesquisa/pas\">Pesquisa Anual de Serviços - PAS</a>,\n",
              " <a href=\"/pesquisa/pspp\">Pesquisa de Serviços de Publicidade e Promoção - PSPP</a>,\n",
              " <a href=\"/pesquisa/psti\">Pesquisa de Serviços de Tecnologia da Informação - PSTI</a>,\n",
              " <a href=\"/pesquisa/psh\">Pesquisa de Serviços de Hospedagem - PSH</a>,\n",
              " <a href=\"/pesquisa/censo-agropecuario\">Censo Agropecuário - Censo-Agropecuario</a>,\n",
              " <a href=\"/pesquisa/pam\">Produção Agrícola Municipal - PAM</a>,\n",
              " <a href=\"/pesquisa/pevs\">Produção da Extração Vegetal e da Silvicultura - PEVS</a>,\n",
              " <a href=\"/pesquisa/ppm\">Pesquisa da Pecuária Municipal - PPM</a>,\n",
              " <a href=\"/pesquisa/pac\">Pesquisa Anual de Comércio - PAC</a>,\n",
              " <a href=\"/pesquisa/pintec\">Pesquisa de Inovação - PINTEC</a>,\n",
              " <a href=\"/pesquisa/cna\">Contas Nacionais Anuais - CNA</a>,\n",
              " <a href=\"/pesquisa/pib-munic\">Produto Interno Bruto dos Municípios - PIB-Munic</a>,\n",
              " <a href=\"/pesquisa/contas-economicas-ambientais\">Contas Econômicas Ambientais</a>,\n",
              " <a href=\"/pesquisa/cempre\">Cadastro Central de Empresas - CEMPRE</a>,\n",
              " <a href=\"/pesquisa/demografia-das-empresas\">Demografia das Empresas - Demografia-das-Empresas</a>,\n",
              " <a href=\"/pesquisa/fasfil\">Fundações Privadas e Associações sem Fins Lucrativos - FASFIL</a>,\n",
              " <a href=\"/pesquisa/cadastros-de-mei\">Estatísticas dos Cadastros de Microempreendedores Individuais (MEI) </a>,\n",
              " <a href=\"/pesquisa/contas-economicas-ambientais/contas-da-terra\">Contas Econômicas Ambientais da Terra</a>,\n",
              " <a href=\"/pesquisa/contas-economicas-ambientais/contas-economicas-da-agua\">Contas Econômicas Ambientais da Água - CEAA</a>,\n",
              " <a href=\"/pesquisa/contas-economicas-ambientais/contas-economicas-de-energia\">Contas Econômicas Ambientais de Energia - CEAE</a>,\n",
              " <a href=\"/pesquisa/contas-economicas-ambientais/contas-de-ecossistemas\">Contas de Ecossistemas: O Uso da Terra nos Biomas</a>,\n",
              " <a href=\"/pesquisa/contas-economicas-ambientais/contas-de-especies\">Contas de Ecossistemas: Espécies Ameaçadas</a>,\n",
              " <a href=\"/pesquisa/ids\">Indicadores de Desenvolvimento Sustentável - IDS</a>,\n",
              " <a href=\"/pesquisa/areas-urbanizadas\">Áreas Urbanizadas</a>,\n",
              " <a class=\"dropdown-toggle\" data-target=\"#pesquisas-menu-modal\" data-toggle=\"modal\" href=\"#\">Pesquisas</a>,\n",
              " <a href=\"/acervo\">Acervo</a>,\n",
              " <a href=\"/territorio\">Território</a>,\n",
              " <a href=\"/contato\">Contato</a>,\n",
              " <a href=\"/ajuda\">Ajuda</a>,\n",
              " <a class=\"areausuario-perfil-link icone-area-usuario\" data-tipo=\"lg\" href=\"/perfil\" title=\"Área do Usuário Sidra\">\n",
              "                             <i class=\"glyphicon glyphicon-user\"></i>\n",
              "                         </a>,\n",
              " <a class=\"esqueci\" href=\"/perfil/usuario/recuperarsenha\">Esqueci minha Senha</a>,\n",
              " <a class=\"cadastro\" href=\"/perfil/usuario/cadastro\">Cadastre-se</a>,\n",
              " <a class=\"login-externo\" data-action=\"Facebook\" href=\"#\" title=\"Facebook\"><img class=\"icon-rede\" src=\"/Content/imagens/login/facebook.png\"/></a>,\n",
              " <a class=\"login-externo\" data-action=\"Google\" href=\"#\" title=\"Google\"><img class=\"icon-rede\" src=\"/Content/imagens/login/google.png\"/></a>,\n",
              " <a class=\"login-externo\" data-action=\"Microsoft\" href=\"#\" title=\"Microsoft\"><img class=\"icon-rede\" src=\"/Content/imagens/login/microsoft.png\"/></a>,\n",
              " <a class=\"areausuario-perfil-link\" href=\"/perfil\">Nome</a>,\n",
              " <a class=\"areausuario-perfil-link\" href=\"/perfil\">Email</a>,\n",
              " <a class=\"areausuario-perfil-link\" href=\"/perfil\" title=\"Meu Sidra\">\n",
              "                             <span class=\"glyphicon glyphicon-home\"></span>\n",
              "                         </a>,\n",
              " <a class=\"areausuario-perfil-link\" href=\"/perfil/usuario/logout\" title=\"Sair\">\n",
              "                             <span class=\"sidraicon sidraicon-logout\"></span>\n",
              "                         </a>,\n",
              " <a data-target=\"#sidra-pesquisa-lg\" href=\"#\" title=\"Pesquisa Tabela\">\n",
              "                             <i class=\"glyphicon glyphicon-search lupa\"></i>\n",
              "                         </a>,\n",
              " <a class=\"areausuario-perfil-link\" href=\"/perfil\">Nome</a>,\n",
              " <a class=\"areausuario-perfil-link\" href=\"/perfil\">Email</a>,\n",
              " <a class=\"areausuario-perfil-link\" href=\"/perfil\" title=\"Meu Sidra\">\n",
              "                             <span class=\"glyphicon glyphicon-home\"></span>\n",
              "                         </a>,\n",
              " <a class=\"areausuario-perfil-link\" href=\"/perfil/usuario/logout\" title=\"Sair\">\n",
              "                             <span class=\"sidraicon sidraicon-logout\"></span>\n",
              "                         </a>,\n",
              " <a aria-expanded=\"false\" class=\"dropdown-toggle\" data-toggle=\"dropdown\" href=\"#\" role=\"button\">\n",
              "                                 <span aria-hidden=\"true\" class=\"glyphicon glyphicon-list\"></span>\n",
              "                             </a>,\n",
              " <a data-controller=\"geral\" data-pagina=\"tabelas\" data-toggle=\"tab\" href=\"#tab-tabelas\" role=\"tab\">Tabelas</a>,\n",
              " <a data-controller=\"geral\" data-pagina=\"referencias\" data-toggle=\"tab\" href=\"#tab-referencias\" role=\"tab\">Referências</a>,\n",
              " <a data-controller=\"geral\" data-pagina=\"tabelas\" data-toggle=\"tab\" href=\"#tab-tabelas\" role=\"tab\">Tabelas</a>,\n",
              " <a data-controller=\"geral\" data-pagina=\"referencias\" data-toggle=\"tab\" href=\"#tab-referencias\" role=\"tab\">Referências</a>,\n",
              " <a class=\"glyphicon glyphicon-list-alt expander\" data-id=\"5917\" href=\"/ajax/tabela/descricao/1/5917\" title=\"Descrever Tabela\"></a>,\n",
              " <a href=\"/tabela/5917\" title=\"Abrir Tabela\">5917</a>,\n",
              " <a href=\"/tabela/5917\" title=\"Abrir Tabela\">População, por sexo</a>,\n",
              " <a class=\"glyphicon glyphicon-list-alt expander\" data-id=\"5918\" href=\"/ajax/tabela/descricao/1/5918\" title=\"Descrever Tabela\"></a>,\n",
              " <a href=\"/tabela/5918\" title=\"Abrir Tabela\">5918</a>,\n",
              " <a href=\"/tabela/5918\" title=\"Abrir Tabela\">População, por grupo de idade</a>,\n",
              " <a class=\"glyphicon glyphicon-list-alt expander\" data-id=\"5919\" href=\"/ajax/tabela/descricao/1/5919\" title=\"Descrever Tabela\"></a>,\n",
              " <a href=\"/tabela/5919\" title=\"Abrir Tabela\">5919</a>,\n",
              " <a href=\"/tabela/5919\" title=\"Abrir Tabela\">População, por nível de instrução</a>,\n",
              " <a class=\"glyphicon glyphicon-list-alt expander\" data-id=\"6403\" href=\"/ajax/tabela/descricao/1/6403\" title=\"Descrever Tabela\"></a>,\n",
              " <a href=\"/tabela/6403\" title=\"Abrir Tabela\">6403</a>,\n",
              " <a href=\"/tabela/6403\" title=\"Abrir Tabela\">População, por cor ou raça</a>,\n",
              " <a class=\"glyphicon glyphicon-list-alt expander\" data-id=\"6462\" href=\"/ajax/tabela/descricao/1/6462\" title=\"Descrever Tabela\"></a>,\n",
              " <a href=\"/tabela/6462\" title=\"Abrir Tabela\">6462</a>,\n",
              " <a href=\"/tabela/6462\" title=\"Abrir Tabela\">População - Total, coeficiente de variação, variações percentuais e absolutas em relação ao trimestre anterior e ao mesmo trimestre do ano anterior</a>,\n",
              " <a class=\"glyphicon glyphicon-list-alt expander\" data-id=\"4092\" href=\"/ajax/tabela/descricao/1/4092\" title=\"Descrever Tabela\"></a>,\n",
              " <a href=\"/tabela/4092\" title=\"Abrir Tabela\">4092</a>,\n",
              " <a href=\"/tabela/4092\" title=\"Abrir Tabela\">Pessoas de 14 anos ou mais de idade, por condição em relação à força de trabalho e condição de ocupação</a>,\n",
              " <a class=\"glyphicon glyphicon-list-alt expander\" data-id=\"4093\" href=\"/ajax/tabela/descricao/1/4093\" title=\"Descrever Tabela\"></a>,\n",
              " <a href=\"/tabela/4093\" title=\"Abrir Tabela\">4093</a>,\n",
              " <a href=\"/tabela/4093\" title=\"Abrir Tabela\">Pessoas de 14 anos ou mais de idade, total, na força de trabalho, ocupadas, desocupadas, fora da força de trabalho, em situação de informalidade e respectivas taxas e níveis, por sexo</a>,\n",
              " <a class=\"glyphicon glyphicon-list-alt expander\" data-id=\"4094\" href=\"/ajax/tabela/descricao/1/4094\" title=\"Descrever Tabela\"></a>,\n",
              " <a href=\"/tabela/4094\" title=\"Abrir Tabela\">4094</a>,\n",
              " <a href=\"/tabela/4094\" title=\"Abrir Tabela\">Pessoas de 14 anos ou mais de idade, total, na força de trabalho, ocupadas, desocupadas, fora da força de trabalho, em situação de informalidade e respectivas taxas e níveis, por grupo de idade</a>,\n",
              " <a class=\"glyphicon glyphicon-list-alt expander\" data-id=\"4095\" href=\"/ajax/tabela/descricao/1/4095\" title=\"Descrever Tabela\"></a>,\n",
              " <a href=\"/tabela/4095\" title=\"Abrir Tabela\">4095</a>,\n",
              " <a href=\"/tabela/4095\" title=\"Abrir Tabela\">Pessoas de 14 anos ou mais de idade, total, na força de trabalho, ocupadas, desocupadas, fora da força de trabalho, em situação de informalidade e respectivas taxas e níveis, por nível de instrução</a>,\n",
              " <a class=\"glyphicon glyphicon-list-alt expander\" data-id=\"6402\" href=\"/ajax/tabela/descricao/1/6402\" title=\"Descrever Tabela\"></a>,\n",
              " <a href=\"/tabela/6402\" title=\"Abrir Tabela\">6402</a>,\n",
              " <a href=\"/tabela/6402\" title=\"Abrir Tabela\">Pessoas de 14 anos ou mais de idade, total, na força de trabalho, ocupadas, desocupadas, fora da força de trabalho, em situação de informalidade e respectivas taxas e níveis, por cor ou raça</a>,\n",
              " <a class=\"glyphicon glyphicon-list-alt expander\" data-id=\"4099\" href=\"/ajax/tabela/descricao/1/4099\" title=\"Descrever Tabela\"></a>,\n",
              " <a href=\"/tabela/4099\" title=\"Abrir Tabela\">4099</a>,\n",
              " <a href=\"/tabela/4099\" title=\"Abrir Tabela\">Taxas de desocupação e de subutilização da força de trabalho, na semana de referência, das pessoas de 14 anos ou mais de idade</a>,\n",
              " <a class=\"glyphicon glyphicon-list-alt expander\" data-id=\"4100\" href=\"/ajax/tabela/descricao/1/4100\" title=\"Descrever Tabela\"></a>,\n",
              " <a href=\"/tabela/4100\" title=\"Abrir Tabela\">4100</a>,\n",
              " <a href=\"/tabela/4100\" title=\"Abrir Tabela\">Pessoas de 14 anos ou mais de idade, por tipo de medida de subutilização da força de trabalho na semana de referência</a>,\n",
              " <a class=\"glyphicon glyphicon-list-alt expander\" data-id=\"6396\" href=\"/ajax/tabela/descricao/1/6396\" title=\"Descrever Tabela\"></a>,\n",
              " <a href=\"/tabela/6396\" title=\"Abrir Tabela\">6396</a>,\n",
              " <a href=\"/tabela/6396\" title=\"Abrir Tabela\">Taxas de desocupação e de subutilização da força de trabalho, na semana de referência, das pessoas de 14 anos ou mais de idade, por sexo</a>,\n",
              " <a class=\"glyphicon glyphicon-list-alt expander\" data-id=\"6397\" href=\"/ajax/tabela/descricao/1/6397\" title=\"Descrever Tabela\"></a>,\n",
              " <a href=\"/tabela/6397\" title=\"Abrir Tabela\">6397</a>,\n",
              " <a href=\"/tabela/6397\" title=\"Abrir Tabela\">Taxas de desocupação e de subutilização da força de trabalho, na semana de referência, das pessoas de 14 anos ou mais de idade, por grupo de idade</a>,\n",
              " <a class=\"glyphicon glyphicon-list-alt expander\" data-id=\"6398\" href=\"/ajax/tabela/descricao/1/6398\" title=\"Descrever Tabela\"></a>,\n",
              " <a href=\"/tabela/6398\" title=\"Abrir Tabela\">6398</a>,\n",
              " <a href=\"/tabela/6398\" title=\"Abrir Tabela\">Pessoas de 14 anos ou mais de idade, por tipo de medida de subutilização da força de trabalho na semana de referência e sexo</a>,\n",
              " <a class=\"glyphicon glyphicon-list-alt expander\" data-id=\"6399\" href=\"/ajax/tabela/descricao/1/6399\" title=\"Descrever Tabela\"></a>,\n",
              " <a href=\"/tabela/6399\" title=\"Abrir Tabela\">6399</a>,\n",
              " <a href=\"/tabela/6399\" title=\"Abrir Tabela\">Pessoas de 14 anos ou mais de idade, por tipo de medida de subutilização da força de trabalho na semana de referência e grupo de idade</a>,\n",
              " <a class=\"glyphicon glyphicon-list-alt expander\" data-id=\"6463\" href=\"/ajax/tabela/descricao/1/6463\" title=\"Descrever Tabela\"></a>,\n",
              " <a href=\"/tabela/6463\" title=\"Abrir Tabela\">6463</a>,\n",
              " <a href=\"/tabela/6463\" title=\"Abrir Tabela\">Pessoas de 14 anos ou mais de idade - Total, coeficiente de variação, variações percentuais e absolutas em relação ao trimestre anterior e ao mesmo trimestre do ano anterior, por condição em relação à força de trabalho e condição de ocupação</a>,\n",
              " <a class=\"glyphicon glyphicon-list-alt expander\" data-id=\"6461\" href=\"/ajax/tabela/descricao/1/6461\" title=\"Descrever Tabela\"></a>,\n",
              " <a href=\"/tabela/6461\" title=\"Abrir Tabela\">6461</a>,\n",
              " <a href=\"/tabela/6461\" title=\"Abrir Tabela\">Taxa de participação na força de trabalho, na semana de referência, das pessoas de 14 anos ou mais de idade - Total, coeficiente de variação, variações em relação ao trimestre anterior e ao mesmo trimestre do ano anterior</a>,\n",
              " <a class=\"glyphicon glyphicon-list-alt expander\" data-id=\"6466\" href=\"/ajax/tabela/descricao/1/6466\" title=\"Descrever Tabela\"></a>,\n",
              " <a href=\"/tabela/6466\" title=\"Abrir Tabela\">6466</a>,\n",
              " <a href=\"/tabela/6466\" title=\"Abrir Tabela\">Nível da ocupação, na semana de referência, das pessoas de 14 anos ou mais de idade - Total, coeficiente de variação, variações em relação ao trimestre anterior e ao mesmo trimestre do ano anterior</a>,\n",
              " <a class=\"glyphicon glyphicon-list-alt expander\" data-id=\"6467\" href=\"/ajax/tabela/descricao/1/6467\" title=\"Descrever Tabela\"></a>,\n",
              " <a href=\"/tabela/6467\" title=\"Abrir Tabela\">6467</a>,\n",
              " <a href=\"/tabela/6467\" title=\"Abrir Tabela\">Nível da desocupação, na semana de referência, das pessoas de 14 anos ou mais de idade - Total, coeficiente de variação, variações em relação ao trimestre anterior e ao mesmo trimestre do ano anterior</a>,\n",
              " <a class=\"glyphicon glyphicon-list-alt expander\" data-id=\"6468\" href=\"/ajax/tabela/descricao/1/6468\" title=\"Descrever Tabela\"></a>,\n",
              " <a href=\"/tabela/6468\" title=\"Abrir Tabela\">6468</a>,\n",
              " <a href=\"/tabela/6468\" title=\"Abrir Tabela\">Taxa de desocupação, na semana de referência, das pessoas de 14 anos ou mais de idade - Total, coeficiente de variação, variações em relação ao trimestre anterior e ao mesmo trimestre do ano anterior</a>,\n",
              " <a class=\"glyphicon glyphicon-list-alt expander\" data-id=\"6482\" href=\"/ajax/tabela/descricao/1/6482\" title=\"Descrever Tabela\"></a>,\n",
              " <a href=\"/tabela/6482\" title=\"Abrir Tabela\">6482</a>,\n",
              " <a href=\"/tabela/6482\" title=\"Abrir Tabela\">Pessoas de 14 anos ou mais de idade - Total, coeficiente de variação, variações percentuais e absolutas em relação ao trimestre anterior e ao mesmo trimestre do ano anterior - por tipo de medida de subutilização da força de trabalho na semana de referência</a>,\n",
              " <a class=\"glyphicon glyphicon-list-alt expander\" data-id=\"6483\" href=\"/ajax/tabela/descricao/1/6483\" title=\"Descrever Tabela\"></a>,\n",
              " <a href=\"/tabela/6483\" title=\"Abrir Tabela\">6483</a>,\n",
              " <a href=\"/tabela/6483\" title=\"Abrir Tabela\">Taxa combinada de desocupação e de subocupação por insuficiência de horas trabalhadas - Total, coeficiente de variação, variações em relação ao trimestre anterior e ao mesmo trimestre do ano anterior</a>,\n",
              " <a class=\"glyphicon glyphicon-list-alt expander\" data-id=\"6484\" href=\"/ajax/tabela/descricao/1/6484\" title=\"Descrever Tabela\"></a>,\n",
              " <a href=\"/tabela/6484\" title=\"Abrir Tabela\">6484</a>,\n",
              " <a href=\"/tabela/6484\" title=\"Abrir Tabela\">Taxa combinada da desocupação e da força de trabalho potencial - Total, coeficiente de variação, variações em relação ao trimestre anterior e ao mesmo trimestre do ano anterior</a>,\n",
              " <a class=\"glyphicon glyphicon-list-alt expander\" data-id=\"6485\" href=\"/ajax/tabela/descricao/1/6485\" title=\"Descrever Tabela\"></a>,\n",
              " <a href=\"/tabela/6485\" title=\"Abrir Tabela\">6485</a>,\n",
              " <a href=\"/tabela/6485\" title=\"Abrir Tabela\">Taxa composta da subutilização da força de trabalho - Total, coeficiente de variação, variações em relação ao trimestre anterior e ao mesmo trimestre do ano anterior</a>,\n",
              " <a class=\"glyphicon glyphicon-list-alt expander\" data-id=\"6813\" href=\"/ajax/tabela/descricao/1/6813\" title=\"Descrever Tabela\"></a>,\n",
              " <a href=\"/tabela/6813\" title=\"Abrir Tabela\">6813</a>,\n",
              " <a href=\"/tabela/6813\" title=\"Abrir Tabela\">Percentual de pessoas desalentadas na população na força de trabalho ou desalentada - Total, coeficiente de variação, variações em relação ao trimestre anterior e ao mesmo trimestre do ano anterior</a>,\n",
              " <a class=\"glyphicon glyphicon-list-alt expander\" data-id=\"4096\" href=\"/ajax/tabela/descricao/1/4096\" title=\"Descrever Tabela\"></a>,\n",
              " <a href=\"/tabela/4096\" title=\"Abrir Tabela\">4096</a>,\n",
              " <a href=\"/tabela/4096\" title=\"Abrir Tabela\">Pessoas de 14 anos ou mais de idade, ocupadas na semana de referência, por posição na ocupação no trabalho principal</a>,\n",
              " <a class=\"glyphicon glyphicon-list-alt expander\" data-id=\"4097\" href=\"/ajax/tabela/descricao/1/4097\" title=\"Descrever Tabela\"></a>,\n",
              " <a href=\"/tabela/4097\" title=\"Abrir Tabela\">4097</a>,\n",
              " <a href=\"/tabela/4097\" title=\"Abrir Tabela\">Pessoas de 14 anos ou mais de idade, ocupadas na semana de referência, por posição na ocupação e categoria do emprego no trabalho principal</a>,\n",
              " <a class=\"glyphicon glyphicon-list-alt expander\" data-id=\"5434\" href=\"/ajax/tabela/descricao/1/5434\" title=\"Descrever Tabela\"></a>,\n",
              " <a href=\"/tabela/5434\" title=\"Abrir Tabela\">5434</a>,\n",
              " <a href=\"/tabela/5434\" title=\"Abrir Tabela\">Pessoas de 14 anos ou mais de idade, ocupadas na semana de referência, por grupamento de atividade no trabalho principal</a>,\n",
              " <a class=\"glyphicon glyphicon-list-alt expander\" data-id=\"5435\" href=\"/ajax/tabela/descricao/1/5435\" title=\"Descrever Tabela\"></a>,\n",
              " <a href=\"/tabela/5435\" title=\"Abrir Tabela\">5435</a>,\n",
              " <a href=\"/tabela/5435\" title=\"Abrir Tabela\">Pessoas de 14 anos ou mais de idade, ocupadas na semana de referência, por grupamento ocupacional no trabalho principal</a>,\n",
              " <a class=\"glyphicon glyphicon-list-alt expander\" data-id=\"5947\" href=\"/ajax/tabela/descricao/1/5947\" title=\"Descrever Tabela\"></a>,\n",
              " <a href=\"/tabela/5947\" title=\"Abrir Tabela\">5947</a>,\n",
              " <a href=\"/tabela/5947\" title=\"Abrir Tabela\">Pessoas de 14 anos ou mais de idade, ocupadas na semana de referência, por contribuição para instituto de previdência em qualquer trabalho</a>,\n",
              " <a class=\"glyphicon glyphicon-list-alt expander\" data-id=\"6371\" href=\"/ajax/tabela/descricao/1/6371\" title=\"Descrever Tabela\"></a>,\n",
              " <a href=\"/tabela/6371\" title=\"Abrir Tabela\">6371</a>,\n",
              " <a href=\"/tabela/6371\" title=\"Abrir Tabela\">Média de horas habitualmente trabalhadas por semana e efetivamente trabalhadas na semana de referência, no trabalho principal e em todos os trabalhos, das pessoas de 14 anos ou mais de idade, por sexo</a>,\n",
              " <a class=\"glyphicon glyphicon-list-alt expander\" data-id=\"6372\" href=\"/ajax/tabela/descricao/1/6372\" title=\"Descrever Tabela\"></a>,\n",
              " <a href=\"/tabela/6372\" title=\"Abrir Tabela\">6372</a>,\n",
              " <a href=\"/tabela/6372\" title=\"Abrir Tabela\">Média de horas habitualmente trabalhadas por semana e efetivamente trabalhadas na semana de referência, no trabalho principal e em todos os trabalhos, das pessoas de 14 anos ou mais de idade, por grupo de idade</a>,\n",
              " <a class=\"glyphicon glyphicon-list-alt expander\" data-id=\"6373\" href=\"/ajax/tabela/descricao/1/6373\" title=\"Descrever Tabela\"></a>,\n",
              " <a href=\"/tabela/6373\" title=\"Abrir Tabela\">6373</a>,\n",
              " <a href=\"/tabela/6373\" title=\"Abrir Tabela\">Média de horas habitualmente trabalhadas por semana e efetivamente trabalhadas na semana de referência, no trabalho principal e em todos os trabalhos, das pessoas de 14 anos ou mais de idade, por nível de instrução</a>,\n",
              " <a class=\"glyphicon glyphicon-list-alt expander\" data-id=\"6406\" href=\"/ajax/tabela/descricao/1/6406\" title=\"Descrever Tabela\"></a>,\n",
              " <a href=\"/tabela/6406\" title=\"Abrir Tabela\">6406</a>,\n",
              " <a href=\"/tabela/6406\" title=\"Abrir Tabela\">Média de horas habitualmente trabalhadas por semana e efetivamente trabalhadas na semana de referência, no trabalho principal e em todos os trabalhos, das pessoas de 14 anos ou mais de idade, por cor ou raça</a>,\n",
              " <a class=\"glyphicon glyphicon-list-alt expander\" data-id=\"6374\" href=\"/ajax/tabela/descricao/1/6374\" title=\"Descrever Tabela\"></a>,\n",
              " <a href=\"/tabela/6374\" title=\"Abrir Tabela\">6374</a>,\n",
              " <a href=\"/tabela/6374\" title=\"Abrir Tabela\">Média de horas habitualmente trabalhadas por semana e efetivamente trabalhadas na semana de referência, no trabalho principal, das pessoas de 14 anos ou mais de idade, por posição na ocupação</a>,\n",
              " <a class=\"glyphicon glyphicon-list-alt expander\" data-id=\"6382\" href=\"/ajax/tabela/descricao/1/6382\" title=\"Descrever Tabela\"></a>,\n",
              " <a href=\"/tabela/6382\" title=\"Abrir Tabela\">6382</a>,\n",
              " <a href=\"/tabela/6382\" title=\"Abrir Tabela\">Pessoas de 14 anos ou mais de idade, ocupadas na semana de referência como militares ou empregados do setor público no trabalho principal, por área do emprego</a>,\n",
              " <a class=\"glyphicon glyphicon-list-alt expander\" data-id=\"6383\" href=\"/ajax/tabela/descricao/1/6383\" title=\"Descrever Tabela\"></a>,\n",
              " <a href=\"/tabela/6383\" title=\"Abrir Tabela\">6383</a>,\n",
              " <a href=\"/tabela/6383\" title=\"Abrir Tabela\">Pessoas de 14 anos ou mais de idade, ocupadas na semana de referência como trabalhadores domésticos no trabalho principal, por número de domicílios em que trabalhavam</a>,\n",
              " <a class=\"glyphicon glyphicon-list-alt expander\" data-id=\"6384\" href=\"/ajax/tabela/descricao/1/6384\" title=\"Descrever Tabela\"></a>,\n",
              " <a href=\"/tabela/6384\" title=\"Abrir Tabela\">6384</a>,\n",
              " <a href=\"/tabela/6384\" title=\"Abrir Tabela\">Pessoas de 14 anos ou mais de idade, ocupadas na semana de referência como empregados (exclusive trabalhadores domésticos) no trabalho principal, por tipo de contratação</a>,\n",
              " <a class=\"glyphicon glyphicon-list-alt expander\" data-id=\"6385\" href=\"/ajax/tabela/descricao/1/6385\" title=\"Descrever Tabela\"></a>,\n",
              " <a href=\"/tabela/6385\" title=\"Abrir Tabela\">6385</a>,\n",
              " <a href=\"/tabela/6385\" title=\"Abrir Tabela\">Pessoas de 14 anos ou mais de idade, ocupadas na semana de referência, por tempo de permanência no trabalho principal</a>,\n",
              " <a class=\"glyphicon glyphicon-list-alt expander\" data-id=\"6386\" href=\"/ajax/tabela/descricao/1/6386\" title=\"Descrever Tabela\"></a>,\n",
              " <a href=\"/tabela/6386\" title=\"Abrir Tabela\">6386</a>,\n",
              " <a href=\"/tabela/6386\" title=\"Abrir Tabela\">Pessoas de 14 anos ou mais de idade, ocupadas na semana de referência, por número de trabalhos</a>,\n",
              " <a class=\"glyphicon glyphicon-list-alt expander\" data-id=\"6464\" href=\"/ajax/tabela/descricao/1/6464\" title=\"Descrever Tabela\"></a>,\n",
              " <a href=\"/tabela/6464\" title=\"Abrir Tabela\">6464</a>,\n",
              " <a href=\"/tabela/6464\" title=\"Abrir Tabela\">Pessoas de 14 anos ou mais de idade, ocupadas na semana de referência - Total, coeficiente de variação, variações percentuais e absolutas em relação ao trimestre anterior e ao mesmo trimestre do ano anterior - por posição na ocupação e categoria do emprego no trabalho principal</a>,\n",
              " <a class=\"glyphicon glyphicon-list-alt expander\" data-id=\"6465\" href=\"/ajax/tabela/descricao/1/6465\" title=\"Descrever Tabela\"></a>,\n",
              " <a href=\"/tabela/6465\" title=\"Abrir Tabela\">6465</a>,\n",
              " <a href=\"/tabela/6465\" title=\"Abrir Tabela\">Pessoas de 14 anos ou mais de idade, ocupadas na semana de referência - Total, coeficiente de variação, variações percentuais e absolutas em relação ao trimestre anterior e ao mesmo trimestre do ano anterior - por grupamento de atividade no trabalho principal</a>,\n",
              " <a class=\"glyphicon glyphicon-list-alt expander\" data-id=\"6459\" href=\"/ajax/tabela/descricao/1/6459\" title=\"Descrever Tabela\"></a>,\n",
              " <a href=\"/tabela/6459\" title=\"Abrir Tabela\">6459</a>,\n",
              " <a href=\"/tabela/6459\" title=\"Abrir Tabela\">Pessoas de 14 anos ou mais de idade ocupadas na semana de referência - Total, coeficiente de variação, variações percentuais e absolutas em relação ao trimestre anterior e ao mesmo trimestre do ano anterior - por contribuição para instituto de previdência em qualquer trabalho</a>,\n",
              " <a class=\"glyphicon glyphicon-list-alt expander\" data-id=\"6460\" href=\"/ajax/tabela/descricao/1/6460\" title=\"Descrever Tabela\"></a>,\n",
              " <a href=\"/tabela/6460\" title=\"Abrir Tabela\">6460</a>,\n",
              " <a href=\"/tabela/6460\" title=\"Abrir Tabela\">Percentual de pessoas contribuintes de instituto de previdência em qualquer trabalho, na população de 14 anos ou mais de idade, ocupada na semana de referência - Total, coeficiente de variação, variações em relação ao trimestre anterior e ao mesmo trimestre do ano anterior</a>,\n",
              " <a class=\"glyphicon glyphicon-list-alt expander\" data-id=\"6808\" href=\"/ajax/tabela/descricao/1/6808\" title=\"Descrever Tabela\"></a>,\n",
              " <a href=\"/tabela/6808\" title=\"Abrir Tabela\">6808</a>,\n",
              " <a href=\"/tabela/6808\" title=\"Abrir Tabela\">Taxa de subocupação por insuficiência de horas trabalhadas - Total, coeficiente de variação, variações em relação ao trimestre anterior e ao mesmo trimestre do ano anterior</a>,\n",
              " <a class=\"glyphicon glyphicon-list-alt expander\" data-id=\"8517\" href=\"/ajax/tabela/descricao/1/8517\" title=\"Descrever Tabela\"></a>,\n",
              " <a href=\"/tabela/8517\" title=\"Abrir Tabela\">8517</a>,\n",
              " <a href=\"/tabela/8517\" title=\"Abrir Tabela\">Pessoas de 14 anos ou mais de idade, ocupadas na semana de referência - Total, coeficiente de variação, variações percentuais e absolutas em relação ao trimestre anterior e ao mesmo trimestre do ano anterior - por situação de informalidade no trabalho principal</a>,\n",
              " <a class=\"glyphicon glyphicon-list-alt expander\" data-id=\"8529\" href=\"/ajax/tabela/descricao/1/8529\" title=\"Descrever Tabela\"></a>,\n",
              " <a href=\"/tabela/8529\" title=\"Abrir Tabela\">8529</a>,\n",
              " <a href=\"/tabela/8529\" title=\"Abrir Tabela\">Taxa de informalidade das pessoas de 14 anos ou mais de idade, ocupadas na semana de referência - Total, coeficiente de variação, variações em relação ao trimestre anterior e ao mesmo trimestre do ano anterior</a>,\n",
              " <a class=\"glyphicon glyphicon-list-alt expander\" data-id=\"1616\" href=\"/ajax/tabela/descricao/1/1616\" title=\"Descrever Tabela\"></a>,\n",
              " <a href=\"/tabela/1616\" title=\"Abrir Tabela\">1616</a>,\n",
              " <a href=\"/tabela/1616\" title=\"Abrir Tabela\">Pessoas de 14 anos ou mais de idade, desocupadas na semana de referência, por tempo de procura de trabalho</a>,\n",
              " <a class=\"glyphicon glyphicon-list-alt expander\" data-id=\"5436\" href=\"/ajax/tabela/descricao/1/5436\" title=\"Descrever Tabela\"></a>,\n",
              " <a href=\"/tabela/5436\" title=\"Abrir Tabela\">5436</a>,\n",
              " <a href=\"/tabela/5436\" title=\"Abrir Tabela\">Rendimento médio mensal real das pessoas de 14 anos ou mais de idade ocupadas na semana de referência com rendimento de trabalho, habitualmente e efetivamente recebidos no trabalho principal e em todos os trabalhos, por sexo</a>,\n",
              " <a class=\"glyphicon glyphicon-list-alt expander\" data-id=\"5437\" href=\"/ajax/tabela/descricao/1/5437\" title=\"Descrever Tabela\"></a>,\n",
              " <a href=\"/tabela/5437\" title=\"Abrir Tabela\">5437</a>,\n",
              " <a href=\"/tabela/5437\" title=\"Abrir Tabela\">Rendimento médio mensal real das pessoas de 14 anos ou mais de idade ocupadas na semana de referência com rendimento de trabalho, habitualmente e efetivamente recebidos no trabalho principal e em todos os trabalhos, por grupo de idade</a>,\n",
              " <a class=\"glyphicon glyphicon-list-alt expander\" data-id=\"5438\" href=\"/ajax/tabela/descricao/1/5438\" title=\"Descrever Tabela\"></a>,\n",
              " <a href=\"/tabela/5438\" title=\"Abrir Tabela\">5438</a>,\n",
              " <a href=\"/tabela/5438\" title=\"Abrir Tabela\">Rendimento médio mensal real das pessoas de 14 anos ou mais de idade ocupadas na semana de referência com rendimento de trabalho, habitualmente e efetivamente recebidos no trabalho principal e em todos os trabalhos, por nível de instrução</a>,\n",
              " <a class=\"glyphicon glyphicon-list-alt expander\" data-id=\"6405\" href=\"/ajax/tabela/descricao/1/6405\" title=\"Descrever Tabela\"></a>,\n",
              " <a href=\"/tabela/6405\" title=\"Abrir Tabela\">6405</a>,\n",
              " <a href=\"/tabela/6405\" title=\"Abrir Tabela\">Rendimento médio mensal real das pessoas de 14 anos ou mais de idade ocupadas na semana de referência com rendimento de trabalho, habitualmente e efetivamente recebidos no trabalho principal e em todos os trabalhos, por cor ou raça</a>,\n",
              " <a class=\"glyphicon glyphicon-list-alt expander\" data-id=\"5439\" href=\"/ajax/tabela/descricao/1/5439\" title=\"Descrever Tabela\"></a>,\n",
              " <a href=\"/tabela/5439\" title=\"Abrir Tabela\">5439</a>,\n",
              " <a href=\"/tabela/5439\" title=\"Abrir Tabela\">Rendimento médio mensal real das pessoas de 14 anos ou mais de idade ocupadas na semana de referência com rendimento de trabalho, habitualmente e efetivamente recebidos no trabalho principal, por posição na ocupação no trabalho principal</a>,\n",
              " <a class=\"glyphicon glyphicon-list-alt expander\" data-id=\"5440\" href=\"/ajax/tabela/descricao/1/5440\" title=\"Descrever Tabela\"></a>,\n",
              " <a href=\"/tabela/5440\" title=\"Abrir Tabela\">5440</a>,\n",
              " <a href=\"/tabela/5440\" title=\"Abrir Tabela\">Rendimento médio mensal real das pessoas de 14 anos ou mais de idade ocupadas na semana de referência com rendimento de trabalho, habitualmente e efetivamente recebidos no trabalho principal, por posição na ocupação e categoria do emprego no trabalho principal</a>,\n",
              " <a class=\"glyphicon glyphicon-list-alt expander\" data-id=\"5442\" href=\"/ajax/tabela/descricao/1/5442\" title=\"Descrever Tabela\"></a>,\n",
              " <a href=\"/tabela/5442\" title=\"Abrir Tabela\">5442</a>,\n",
              " <a href=\"/tabela/5442\" title=\"Abrir Tabela\">Rendimento médio mensal real das pessoas de 14 anos ou mais de idade ocupadas na semana de referência com rendimento de trabalho, habitualmente e efetivamente recebidos no trabalho principal, por grupamento de atividade no trabalho principal</a>,\n",
              " <a class=\"glyphicon glyphicon-list-alt expander\" data-id=\"5444\" href=\"/ajax/tabela/descricao/1/5444\" title=\"Descrever Tabela\"></a>,\n",
              " <a href=\"/tabela/5444\" title=\"Abrir Tabela\">5444</a>,\n",
              " <a href=\"/tabela/5444\" title=\"Abrir Tabela\">Rendimento médio mensal real das pessoas de 14 anos ou mais de idade ocupadas na semana de referência com rendimento de trabalho, habitualmente e efetivamente recebidos no trabalho principal, por grupamento ocupacional no trabalho principal</a>,\n",
              " <a class=\"glyphicon glyphicon-list-alt expander\" data-id=\"6472\" href=\"/ajax/tabela/descricao/1/6472\" title=\"Descrever Tabela\"></a>,\n",
              " <a href=\"/tabela/6472\" title=\"Abrir Tabela\">6472</a>,\n",
              " <a href=\"/tabela/6472\" title=\"Abrir Tabela\">Rendimento médio mensal real e nominal das pessoas de 14 anos ou mais de idade ocupadas na semana de referência com rendimento de trabalho, habitualmente recebido em todos os trabalhos - Total, coeficiente de variação, variações em relação ao trimestre anterior e ao mesmo trimestre do ano anterior</a>,\n",
              " <a class=\"glyphicon glyphicon-list-alt expander\" data-id=\"6469\" href=\"/ajax/tabela/descricao/1/6469\" title=\"Descrever Tabela\"></a>,\n",
              " <a href=\"/tabela/6469\" title=\"Abrir Tabela\">6469</a>,\n",
              " <a href=\"/tabela/6469\" title=\"Abrir Tabela\">Rendimento médio mensal real e nominal das pessoas de 14 anos ou mais de idade ocupadas na semana de referência com rendimento de trabalho, efetivamente recebido em todos os trabalhos - Total, coeficiente de variação, variações em relação ao trimestre anterior e ao mesmo trimestre do ano anterior</a>,\n",
              " <a class=\"glyphicon glyphicon-list-alt expander\" data-id=\"6470\" href=\"/ajax/tabela/descricao/1/6470\" title=\"Descrever Tabela\"></a>,\n",
              " <a href=\"/tabela/6470\" title=\"Abrir Tabela\">6470</a>,\n",
              " <a href=\"/tabela/6470\" title=\"Abrir Tabela\">Rendimento médio mensal real das pessoas de 14 anos ou mais de idade ocupadas na semana de referência com rendimento de trabalho, efetivamente recebido no trabalho principal - Total, coeficiente de variação, variações em relação ao trimestre anterior e ao mesmo trimestre do ano anterior</a>,\n",
              " <a class=\"glyphicon glyphicon-list-alt expander\" data-id=\"6471\" href=\"/ajax/tabela/descricao/1/6471\" title=\"Descrever Tabela\"></a>,\n",
              " <a href=\"/tabela/6471\" title=\"Abrir Tabela\">6471</a>,\n",
              " <a href=\"/tabela/6471\" title=\"Abrir Tabela\">Rendimento médio mensal real das pessoas de 14 anos ou mais de idade ocupadas na semana de referência com rendimento de trabalho, habitualmente recebido no trabalho principal - Total, coeficiente de variação, variações em relação ao trimestre anterior e ao mesmo trimestre do ano anterior - por posição na ocupação e categoria do emprego no trabalho principal</a>,\n",
              " <a class=\"glyphicon glyphicon-list-alt expander\" data-id=\"6473\" href=\"/ajax/tabela/descricao/1/6473\" title=\"Descrever Tabela\"></a>,\n",
              " <a href=\"/tabela/6473\" title=\"Abrir Tabela\">6473</a>,\n",
              " <a href=\"/tabela/6473\" title=\"Abrir Tabela\">Rendimento médio mensal real das pessoas de 14 anos ou mais de idade ocupadas na semana de referência com rendimento de trabalho, habitualmente recebido no trabalho principal - Total, coeficiente de variação, variações em relação ao trimestre anterior e ao mesmo trimestre do ano anterior - por grupamento de atividade no trabalho principal</a>,\n",
              " <a class=\"glyphicon glyphicon-list-alt expander\" data-id=\"5606\" href=\"/ajax/tabela/descricao/1/5606\" title=\"Descrever Tabela\"></a>,\n",
              " <a href=\"/tabela/5606\" title=\"Abrir Tabela\">5606</a>,\n",
              " <a href=\"/tabela/5606\" title=\"Abrir Tabela\">Massa de rendimento mensal real das pessoas de 14 anos ou mais de idade ocupadas na semana de referência com rendimento de trabalho, habitualmente e efetivamente recebidos em todos os trabalhos</a>,\n",
              " <a class=\"glyphicon glyphicon-list-alt expander\" data-id=\"6421\" href=\"/ajax/tabela/descricao/1/6421\" title=\"Descrever Tabela\"></a>,\n",
              " <a href=\"/tabela/6421\" title=\"Abrir Tabela\">6421</a>,\n",
              " <a href=\"/tabela/6421\" title=\"Abrir Tabela\">Massa de rendimento mensal real das pessoas de 14 anos ou mais de idade ocupadas na semana de referência com rendimento de trabalho, habitualmente e efetivamente recebidos no trabalho principal, por posição na ocupação no trabalho principal</a>,\n",
              " <a class=\"glyphicon glyphicon-list-alt expander\" data-id=\"6474\" href=\"/ajax/tabela/descricao/1/6474\" title=\"Descrever Tabela\"></a>,\n",
              " <a href=\"/tabela/6474\" title=\"Abrir Tabela\">6474</a>,\n",
              " <a href=\"/tabela/6474\" title=\"Abrir Tabela\">Massa de rendimento mensal real e nominal das pessoas de 14 anos ou mais de idade ocupadas na semana de referência com rendimento de trabalho, habitualmente recebido em todos os trabalhos - Total, coeficiente de variação, variações percentuais e absolutas em relação ao trimestre anterior e ao mesmo trimestre do ano anterior</a>,\n",
              " <a class=\"glyphicon glyphicon-list-alt expander\" data-id=\"6475\" href=\"/ajax/tabela/descricao/1/6475\" title=\"Descrever Tabela\"></a>,\n",
              " <a href=\"/tabela/6475\" title=\"Abrir Tabela\">6475</a>,\n",
              " <a href=\"/tabela/6475\" title=\"Abrir Tabela\">Massa de rendimento mensal real e nominal das pessoas de 14 anos ou mais de idade ocupadas na semana de referência com rendimento de trabalho, efetivamente recebido em todos os trabalhos - Total, coeficiente de variação, variações percentuais e absolutas em relação ao trimestre anterior e ao mesmo trimestre do ano anterior</a>,\n",
              " <a href=\"/pesquisa/pnadcm\">Pesquisa Nacional por Amostra de Domicílios Continua Mensal - PNADCM</a>,\n",
              " <a href=\"/pesquisa/pnadct\">Pesquisa Nacional por Amostra de Domicílios Continua Trimestral - PNADCT</a>,\n",
              " <a href=\"/pesquisa/pme\">Pesquisa Mensal de Emprego - PME (extinta)</a>,\n",
              " <a href=\"/pesquisa/estoques\">Pesquisa de Estoques - ESTOQUES</a>,\n",
              " <a href=\"/pesquisa/lspa\">Levantamento Sistemático da Produção Agrícola - LSPA</a>,\n",
              " <a href=\"/pesquisa/abate\">Pesquisa Trimestral do Abate de Animais - ABATE</a>,\n",
              " <a href=\"/pesquisa/couro\">Pesquisa Trimestral do Couro - COURO</a>,\n",
              " <a href=\"/pesquisa/leite\">Pesquisa Trimestral do Leite - LEITE</a>,\n",
              " <a href=\"/pesquisa/pog\">Produção de Ovos de Galinha - POG</a>,\n",
              " <a href=\"/pesquisa/pimes\">Pesquisa Industrial Mensal de Emprego e Salário - PIMES (extinta)</a>,\n",
              " <a href=\"/pesquisa/pim-pf-brasil\">Pesquisa Industrial Mensal - Produção Física - PIM-PF-Brasil</a>,\n",
              " <a href=\"/pesquisa/pim-pf-regional\">Pesquisa Industrial Mensal - Produção Física - PIM-PF-Regional</a>,\n",
              " <a href=\"/pesquisa/pmc\">Pesquisa Mensal de Comércio - PMC</a>,\n",
              " <a href=\"/pesquisa/pms\">Pesquisa Mensal de Serviços - PMS</a>,\n",
              " <a href=\"/pesquisa/ipp\">Índice de Preços ao Produtor - IPP</a>,\n",
              " <a href=\"/pesquisa/sinapi\">Sistema Nacional de Pesquisa de Custos e Índices da Construção Civil - SINAPI</a>,\n",
              " <a href=\"/pesquisa/snipc\">Índices de Preços ao Consumidor (IPCA, INPC e IPCA15) - SNIPC</a>,\n",
              " <a href=\"/pesquisa/cnt\">Contas Nacionais Trimestrais - CNT</a>,\n",
              " <a href=\"/pesquisa/censo-demografico\">Censo Demográfico - Censo-Demografico</a>,\n",
              " <a href=\"/pesquisa/registro-civil\">Estatísticas do Registro Civil - Registro-Civil</a>,\n",
              " <a href=\"/pesquisa/pnadca\">Pesquisa Nacional por Amostra de Domicílios Contínua Anual - PNADCA</a>,\n",
              " <a href=\"/pesquisa/pnad\">Pesquisa Nacional por Amostra de Domicílios - PNAD</a>,\n",
              " <a href=\"/pesquisa/estimapop\">Estimativas de População - EstimaPop</a>,\n",
              " <a href=\"/pesquisa/projecao-da-populacao\">Projeções da População</a>,\n",
              " <a href=\"/pesquisa/pof\">Pesquisa de Orçamentos Familiares - POF</a>,\n",
              " <a href=\"/pesquisa/pns\">Pesquisa Nacional de Saúde - PNS</a>,\n",
              " <a href=\"/pesquisa/ams\">Pesquisa Assistência Médico-Sanitária - AMS</a>,\n",
              " <a href=\"/pesquisa/pnsb\">Pesquisa Nacional de Saneamento Básico - PNSB</a>,\n",
              " <a href=\"/pesquisa/pense\">Pesquisa Nacional de Saúde do Escolar - PeNSE</a>,\n",
              " <a href=\"/pesquisa/munic\">Pesquisa de Informações Básicas Municipais - MUNIC</a>,\n",
              " <a href=\"/pesquisa/paic\">Pesquisa Anual da Indústria da Construção - PAIC</a>,\n",
              " <a href=\"/pesquisa/pia-empresa\">Pesquisa Industrial Anual - PIA-Empresa</a>,\n",
              " <a href=\"/pesquisa/pia-produto\">Pesquisa Industrial Anual - PIA-Produto</a>,\n",
              " <a href=\"/pesquisa/pas\">Pesquisa Anual de Serviços - PAS</a>,\n",
              " <a href=\"/pesquisa/pspp\">Pesquisa de Serviços de Publicidade e Promoção - PSPP</a>,\n",
              " <a href=\"/pesquisa/psti\">Pesquisa de Serviços de Tecnologia da Informação - PSTI</a>,\n",
              " <a href=\"/pesquisa/psh\">Pesquisa de Serviços de Hospedagem - PSH</a>,\n",
              " <a href=\"/pesquisa/censo-agropecuario\">Censo Agropecuário - Censo-Agropecuario</a>,\n",
              " <a href=\"/pesquisa/pam\">Produção Agrícola Municipal - PAM</a>,\n",
              " <a href=\"/pesquisa/pevs\">Produção da Extração Vegetal e da Silvicultura - PEVS</a>,\n",
              " <a href=\"/pesquisa/ppm\">Pesquisa da Pecuária Municipal - PPM</a>,\n",
              " <a href=\"/pesquisa/pac\">Pesquisa Anual de Comércio - PAC</a>,\n",
              " <a href=\"/pesquisa/pintec\">Pesquisa de Inovação - PINTEC</a>,\n",
              " <a href=\"/pesquisa/cna\">Contas Nacionais Anuais - CNA</a>,\n",
              " <a href=\"/pesquisa/pib-munic\">Produto Interno Bruto dos Municípios - PIB-Munic</a>,\n",
              " <a href=\"/pesquisa/contas-economicas-ambientais\">Contas Econômicas Ambientais</a>,\n",
              " <a href=\"/pesquisa/cempre\">Cadastro Central de Empresas - CEMPRE</a>,\n",
              " <a href=\"/pesquisa/demografia-das-empresas\">Demografia das Empresas - Demografia-das-Empresas</a>,\n",
              " <a href=\"/pesquisa/fasfil\">Fundações Privadas e Associações sem Fins Lucrativos - FASFIL</a>,\n",
              " <a href=\"/pesquisa/cadastros-de-mei\">Estatísticas dos Cadastros de Microempreendedores Individuais (MEI) </a>,\n",
              " <a href=\"/pesquisa/contas-economicas-ambientais/contas-da-terra\">Contas Econômicas Ambientais da Terra</a>,\n",
              " <a href=\"/pesquisa/contas-economicas-ambientais/contas-economicas-da-agua\">Contas Econômicas Ambientais da Água - CEAA</a>,\n",
              " <a href=\"/pesquisa/contas-economicas-ambientais/contas-economicas-de-energia\">Contas Econômicas Ambientais de Energia - CEAE</a>,\n",
              " <a href=\"/pesquisa/contas-economicas-ambientais/contas-de-ecossistemas\">Contas de Ecossistemas: O Uso da Terra nos Biomas</a>,\n",
              " <a href=\"/pesquisa/contas-economicas-ambientais/contas-de-especies\">Contas de Ecossistemas: Espécies Ameaçadas</a>,\n",
              " <a href=\"/pesquisa/ids\">Indicadores de Desenvolvimento Sustentável - IDS</a>,\n",
              " <a href=\"/pesquisa/areas-urbanizadas\">Áreas Urbanizadas</a>,\n",
              " <a class=\"esqueci\" href=\"/perfil/usuario/recuperarsenha\">Esqueci minha Senha</a>,\n",
              " <a class=\"cadastro\" href=\"/perfil/usuario/cadastro\">Cadastre-se</a>,\n",
              " <a class=\"login-externo\" data-action=\"Facebook\" href=\"#\" title=\"Facebook\"><img class=\"icon-rede\" src=\"/Content/imagens/login/facebook.png\"/></a>,\n",
              " <a class=\"login-externo\" data-action=\"Google\" href=\"#\" title=\"Google\"><img class=\"icon-rede\" src=\"/Content/imagens/login/google.png\"/></a>,\n",
              " <a class=\"login-externo\" data-action=\"Microsoft\" href=\"#\" title=\"Microsoft\"><img class=\"icon-rede\" src=\"/Content/imagens/login/microsoft.png\"/></a>]"
            ]
          },
          "metadata": {},
          "execution_count": 11
        }
      ]
    },
    {
      "cell_type": "markdown",
      "source": [
        "# Inspecionar e Coletar Dados de Tabela / PYPL Index (WorldWide)"
      ],
      "metadata": {
        "id": "MLQAW_m-gTuq"
      }
    },
    {
      "cell_type": "markdown",
      "source": [
        "tabela = soup.find('table', {'table': 'Nome da Tabela'}).find('tbody')"
      ],
      "metadata": {
        "id": "WxKtrAzs0wcd"
      }
    },
    {
      "cell_type": "code",
      "source": [
        "tabela=soup.find('table', {'border': '1'}).find('tbody')\n",
        "tabela"
      ],
      "metadata": {
        "colab": {
          "base_uri": "https://localhost:8080/"
        },
        "id": "GO4QaeY9ge1I",
        "outputId": "aca2e307-c8eb-4e3c-c020-2656fe7ed892"
      },
      "execution_count": null,
      "outputs": [
        {
          "output_type": "execute_result",
          "data": {
            "text/plain": [
              "<tbody>\n",
              "                    <tr><th>Mês da divulgação</th><th colspan=\"3\">Trimestres móveis</th><th colspan=\"3\">Trimestres convencionais</th></tr>\n",
              "                    <tr><td>Janeiro</td><td>Out</td><td>Nov</td><td>Dez</td><td colspan=\"3\"> </td></tr>\n",
              "                    <tr><td>Fevereiro</td><td>Nov</td><td>Dez</td><td>Jan</td><td>Out</td><td>Nov</td><td>Dez</td></tr>\n",
              "                    <tr><td>Março</td><td>Dez</td><td>Jan</td><td>Fev</td><td colspan=\"3\"> </td></tr>\n",
              "                    <tr><td>Abril</td><td>Jan</td><td>Fev</td><td>Mar</td><td colspan=\"3\"> </td></tr>\n",
              "                    <tr><td>Maio</td><td>Fev</td><td>Mar</td><td>Abr</td><td>Jan</td><td>Fev</td><td>Mar</td></tr>\n",
              "                    <tr><td>Junho</td><td>Mar</td><td>Abr</td><td>Mai</td><td colspan=\"3\"> </td></tr>\n",
              "                    <tr><td>Julho</td><td>Abr</td><td>Mai</td><td>Jun</td><td colspan=\"3\"> </td></tr>\n",
              "                    <tr><td>Agosto</td><td>Mai</td><td>Jun</td><td>Jul</td><td>Abr</td><td>Mai</td><td>Jun</td></tr>\n",
              "                    <tr><td>Setembro</td><td>Jun</td><td>Jul</td><td>Ago</td><td colspan=\"3\"> </td></tr>\n",
              "                    <tr><td>Outubro</td><td>Jul</td><td>Ago</td><td>Set</td><td colspan=\"3\"> </td></tr>\n",
              "                    <tr><td>Novembro</td><td>Ago</td><td>Set</td><td>Out</td><td>Jul</td><td>Ago</td><td>Set</td></tr>\n",
              "                    <tr><td>Dezembro</td><td>Set</td><td>Out</td><td>Nov</td><td colspan=\"3\"> </td></tr>\n",
              "                </tbody>"
            ]
          },
          "metadata": {},
          "execution_count": 40
        }
      ]
    },
    {
      "cell_type": "code",
      "source": [
        "linhas=tabela.find_all('tr')\n",
        "for linha in linhas:\n",
        "  dado = linha.find_all('td')\n",
        "  print(dado)\n",
        "  #print(dado[1].text)\n",
        "  #print(dado[2].text)\n",
        "  #print('--------')"
      ],
      "metadata": {
        "colab": {
          "base_uri": "https://localhost:8080/"
        },
        "id": "r4POF8nHjoe4",
        "outputId": "c71ced2b-a7b5-4b07-b216-8a9550fd2289"
      },
      "execution_count": null,
      "outputs": [
        {
          "output_type": "stream",
          "name": "stdout",
          "text": [
            "[]\n",
            "[<td>Janeiro</td>, <td>Out</td>, <td>Nov</td>, <td>Dez</td>, <td colspan=\"3\"> </td>]\n",
            "[<td>Fevereiro</td>, <td>Nov</td>, <td>Dez</td>, <td>Jan</td>, <td>Out</td>, <td>Nov</td>, <td>Dez</td>]\n",
            "[<td>Março</td>, <td>Dez</td>, <td>Jan</td>, <td>Fev</td>, <td colspan=\"3\"> </td>]\n",
            "[<td>Abril</td>, <td>Jan</td>, <td>Fev</td>, <td>Mar</td>, <td colspan=\"3\"> </td>]\n",
            "[<td>Maio</td>, <td>Fev</td>, <td>Mar</td>, <td>Abr</td>, <td>Jan</td>, <td>Fev</td>, <td>Mar</td>]\n",
            "[<td>Junho</td>, <td>Mar</td>, <td>Abr</td>, <td>Mai</td>, <td colspan=\"3\"> </td>]\n",
            "[<td>Julho</td>, <td>Abr</td>, <td>Mai</td>, <td>Jun</td>, <td colspan=\"3\"> </td>]\n",
            "[<td>Agosto</td>, <td>Mai</td>, <td>Jun</td>, <td>Jul</td>, <td>Abr</td>, <td>Mai</td>, <td>Jun</td>]\n",
            "[<td>Setembro</td>, <td>Jun</td>, <td>Jul</td>, <td>Ago</td>, <td colspan=\"3\"> </td>]\n",
            "[<td>Outubro</td>, <td>Jul</td>, <td>Ago</td>, <td>Set</td>, <td colspan=\"3\"> </td>]\n",
            "[<td>Novembro</td>, <td>Ago</td>, <td>Set</td>, <td>Out</td>, <td>Jul</td>, <td>Ago</td>, <td>Set</td>]\n",
            "[<td>Dezembro</td>, <td>Set</td>, <td>Out</td>, <td>Nov</td>, <td colspan=\"3\"> </td>]\n"
          ]
        }
      ]
    },
    {
      "cell_type": "markdown",
      "source": [
        "# Montar lista de lingugem e porcentagem. Criar DataFrame"
      ],
      "metadata": {
        "id": "BkNYQrba3A04"
      }
    },
    {
      "cell_type": "code",
      "source": [
        "linguagem=[]\n",
        "pontos=[]\n",
        "\n",
        "for linha in linhas:\n",
        "  dado=linha.find_all('td')\n",
        "  linguagem.append(dado[2].text)\n",
        "  pontos.append(dado[3].text)\n"
      ],
      "metadata": {
        "colab": {
          "base_uri": "https://localhost:8080/",
          "height": 216
        },
        "id": "GaK59iUo3FUd",
        "outputId": "50080026-d853-48f3-b0c5-f7797de99ee8",
        "collapsed": true
      },
      "execution_count": null,
      "outputs": [
        {
          "output_type": "error",
          "ename": "IndexError",
          "evalue": "list index out of range",
          "traceback": [
            "\u001b[0;31m---------------------------------------------------------------------------\u001b[0m",
            "\u001b[0;31mIndexError\u001b[0m                                Traceback (most recent call last)",
            "\u001b[0;32m<ipython-input-49-63edab6e31c7>\u001b[0m in \u001b[0;36m<cell line: 4>\u001b[0;34m()\u001b[0m\n\u001b[1;32m      4\u001b[0m \u001b[0;32mfor\u001b[0m \u001b[0mlinha\u001b[0m \u001b[0;32min\u001b[0m \u001b[0mlinhas\u001b[0m\u001b[0;34m:\u001b[0m\u001b[0;34m\u001b[0m\u001b[0;34m\u001b[0m\u001b[0m\n\u001b[1;32m      5\u001b[0m   \u001b[0mdado\u001b[0m\u001b[0;34m=\u001b[0m\u001b[0mlinha\u001b[0m\u001b[0;34m.\u001b[0m\u001b[0mfind_all\u001b[0m\u001b[0;34m(\u001b[0m\u001b[0;34m'td'\u001b[0m\u001b[0;34m)\u001b[0m\u001b[0;34m\u001b[0m\u001b[0;34m\u001b[0m\u001b[0m\n\u001b[0;32m----> 6\u001b[0;31m   \u001b[0mlinguagem\u001b[0m\u001b[0;34m.\u001b[0m\u001b[0mappend\u001b[0m\u001b[0;34m(\u001b[0m\u001b[0mdado\u001b[0m\u001b[0;34m[\u001b[0m\u001b[0;36m2\u001b[0m\u001b[0;34m]\u001b[0m\u001b[0;34m.\u001b[0m\u001b[0mtext\u001b[0m\u001b[0;34m)\u001b[0m\u001b[0;34m\u001b[0m\u001b[0;34m\u001b[0m\u001b[0m\n\u001b[0m\u001b[1;32m      7\u001b[0m   \u001b[0mpontos\u001b[0m\u001b[0;34m.\u001b[0m\u001b[0mappend\u001b[0m\u001b[0;34m(\u001b[0m\u001b[0mdado\u001b[0m\u001b[0;34m[\u001b[0m\u001b[0;36m3\u001b[0m\u001b[0;34m]\u001b[0m\u001b[0;34m.\u001b[0m\u001b[0mtext\u001b[0m\u001b[0;34m)\u001b[0m\u001b[0;34m\u001b[0m\u001b[0;34m\u001b[0m\u001b[0m\n\u001b[1;32m      8\u001b[0m \u001b[0;34m\u001b[0m\u001b[0m\n",
            "\u001b[0;31mIndexError\u001b[0m: list index out of range"
          ]
        }
      ]
    },
    {
      "cell_type": "code",
      "source": [
        "print(linguagem)\n",
        "print(pontos)"
      ],
      "metadata": {
        "id": "MTroAB9k3c9K"
      },
      "execution_count": null,
      "outputs": []
    },
    {
      "cell_type": "markdown",
      "source": [
        "DataFrame"
      ],
      "metadata": {
        "id": "7PhpsLf533SF"
      }
    },
    {
      "cell_type": "code",
      "source": [
        "dados=pd.DataFrame(linguagem, columns=['Linguagem'])\n",
        "dados['Pontos']=pontos\n",
        "dados"
      ],
      "metadata": {
        "colab": {
          "base_uri": "https://localhost:8080/",
          "height": 180
        },
        "id": "UZO6F11d35CU",
        "outputId": "d4c80069-e4e1-497c-ac50-95880ce98ce4",
        "collapsed": true
      },
      "execution_count": 1,
      "outputs": [
        {
          "output_type": "error",
          "ename": "NameError",
          "evalue": "name 'pd' is not defined",
          "traceback": [
            "\u001b[0;31m---------------------------------------------------------------------------\u001b[0m",
            "\u001b[0;31mNameError\u001b[0m                                 Traceback (most recent call last)",
            "\u001b[0;32m<ipython-input-1-0c1655db8180>\u001b[0m in \u001b[0;36m<cell line: 1>\u001b[0;34m()\u001b[0m\n\u001b[0;32m----> 1\u001b[0;31m \u001b[0mdados\u001b[0m\u001b[0;34m=\u001b[0m\u001b[0mpd\u001b[0m\u001b[0;34m.\u001b[0m\u001b[0mDataFrame\u001b[0m\u001b[0;34m(\u001b[0m\u001b[0mlinguagem\u001b[0m\u001b[0;34m,\u001b[0m \u001b[0mcolumns\u001b[0m\u001b[0;34m=\u001b[0m\u001b[0;34m[\u001b[0m\u001b[0;34m'Linguagem'\u001b[0m\u001b[0;34m]\u001b[0m\u001b[0;34m)\u001b[0m\u001b[0;34m\u001b[0m\u001b[0;34m\u001b[0m\u001b[0m\n\u001b[0m\u001b[1;32m      2\u001b[0m \u001b[0mdados\u001b[0m\u001b[0;34m[\u001b[0m\u001b[0;34m'Pontos'\u001b[0m\u001b[0;34m]\u001b[0m\u001b[0;34m=\u001b[0m\u001b[0mpontos\u001b[0m\u001b[0;34m\u001b[0m\u001b[0;34m\u001b[0m\u001b[0m\n\u001b[1;32m      3\u001b[0m \u001b[0mdados\u001b[0m\u001b[0;34m\u001b[0m\u001b[0;34m\u001b[0m\u001b[0m\n",
            "\u001b[0;31mNameError\u001b[0m: name 'pd' is not defined"
          ]
        }
      ]
    }
  ]
}