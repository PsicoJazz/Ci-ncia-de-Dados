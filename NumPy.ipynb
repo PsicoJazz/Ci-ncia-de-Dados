{
  "nbformat": 4,
  "nbformat_minor": 0,
  "metadata": {
    "colab": {
      "provenance": [],
      "collapsed_sections": [
        "WPXHoBf5mPSk",
        "FoXG2iugmdOO",
        "wdyPjC0qmob-",
        "xwbeTKx-msiT",
        "l6ZXIzYHmyms",
        "eIkRBUj4m1_n",
        "brNAHLrPm6M6",
        "elpWWRnym_HO",
        "KDwt4JD6nC-t",
        "kQ4KVqw2nGIX",
        "8wzp1bNdnJVy",
        "mBv5LhK1nM6O",
        "lF4rqkvXnRW8"
      ],
      "toc_visible": true,
      "authorship_tag": "ABX9TyP7EaOsXCoCcDu4AqcTXSAZ",
      "include_colab_link": true
    },
    "kernelspec": {
      "name": "python3",
      "display_name": "Python 3"
    },
    "language_info": {
      "name": "python"
    }
  },
  "cells": [
    {
      "cell_type": "markdown",
      "metadata": {
        "id": "view-in-github",
        "colab_type": "text"
      },
      "source": [
        "<a href=\"https://colab.research.google.com/github/PsicoJazz/Ciencia-de-Dados/blob/main/NumPy.ipynb\" target=\"_parent\"><img src=\"https://colab.research.google.com/assets/colab-badge.svg\" alt=\"Open In Colab\"/></a>"
      ]
    },
    {
      "cell_type": "markdown",
      "source": [
        "# **Importando a Bíblioteca**\n"
      ],
      "metadata": {
        "id": "L0rp2hwwVMUD"
      }
    },
    {
      "cell_type": "code",
      "source": [
        "import numpy as np"
      ],
      "metadata": {
        "id": "5R3cvGe2Ug9E"
      },
      "execution_count": null,
      "outputs": []
    },
    {
      "cell_type": "markdown",
      "source": [
        "# Criando lista aleatória"
      ],
      "metadata": {
        "id": "WPXHoBf5mPSk"
      }
    },
    {
      "cell_type": "code",
      "source": [
        "dados = np.random.rand(2,3)"
      ],
      "metadata": {
        "id": "odyNycKxUzNU"
      },
      "execution_count": null,
      "outputs": []
    },
    {
      "cell_type": "code",
      "source": [
        "dados"
      ],
      "metadata": {
        "colab": {
          "base_uri": "https://localhost:8080/"
        },
        "id": "UaShFB19U5pO",
        "outputId": "a0a8d643-4cd0-484a-a9e8-78fc5d8e650a"
      },
      "execution_count": null,
      "outputs": [
        {
          "output_type": "execute_result",
          "data": {
            "text/plain": [
              "array([[0.24748552, 0.63553513, 0.14122808],\n",
              "       [0.63703351, 0.74766987, 0.20539596]])"
            ]
          },
          "metadata": {},
          "execution_count": 5
        }
      ]
    },
    {
      "cell_type": "markdown",
      "source": [
        "# Consultar tipo da variável"
      ],
      "metadata": {
        "id": "FoXG2iugmdOO"
      }
    },
    {
      "cell_type": "code",
      "source": [
        "dados.dtype"
      ],
      "metadata": {
        "colab": {
          "base_uri": "https://localhost:8080/"
        },
        "id": "QXBnCfhyU63f",
        "outputId": "08d4438e-8c5f-4e37-9f52-4e017ccfeb62"
      },
      "execution_count": null,
      "outputs": [
        {
          "output_type": "execute_result",
          "data": {
            "text/plain": [
              "dtype('float64')"
            ]
          },
          "metadata": {},
          "execution_count": 6
        }
      ]
    },
    {
      "cell_type": "markdown",
      "source": [
        "# Consultar dimentões e elementos"
      ],
      "metadata": {
        "id": "wdyPjC0qmob-"
      }
    },
    {
      "cell_type": "markdown",
      "source": [
        "**Consultar dimentões e elementos**"
      ],
      "metadata": {
        "id": "dnXOWyjuWI6L"
      }
    },
    {
      "cell_type": "code",
      "source": [
        "dados.ndim"
      ],
      "metadata": {
        "colab": {
          "base_uri": "https://localhost:8080/"
        },
        "id": "RGa-vbeJV8Zy",
        "outputId": "170d828f-d2b1-4adb-df14-c7496ecc8444"
      },
      "execution_count": null,
      "outputs": [
        {
          "output_type": "execute_result",
          "data": {
            "text/plain": [
              "2"
            ]
          },
          "metadata": {},
          "execution_count": 8
        }
      ]
    },
    {
      "cell_type": "code",
      "source": [
        "dados.shape"
      ],
      "metadata": {
        "colab": {
          "base_uri": "https://localhost:8080/"
        },
        "id": "hUuUVJRxWQqt",
        "outputId": "4b1fa7d0-9389-43fc-9345-120d83859c55"
      },
      "execution_count": null,
      "outputs": [
        {
          "output_type": "execute_result",
          "data": {
            "text/plain": [
              "(2, 3)"
            ]
          },
          "metadata": {},
          "execution_count": 9
        }
      ]
    },
    {
      "cell_type": "markdown",
      "source": [
        "# NDARRAY usando um array"
      ],
      "metadata": {
        "id": "xwbeTKx-msiT"
      }
    },
    {
      "cell_type": "markdown",
      "source": [
        "**NDARRAY  usando um array**"
      ],
      "metadata": {
        "id": "_lu9V3wxWe7d"
      }
    },
    {
      "cell_type": "code",
      "source": [
        "lista=[1,3,5,6.5,7.2]"
      ],
      "metadata": {
        "id": "enSBV9fqWU20"
      },
      "execution_count": null,
      "outputs": []
    },
    {
      "cell_type": "code",
      "source": [
        "dados2 = np.array(lista)"
      ],
      "metadata": {
        "id": "XrfqUrcNXIJ5"
      },
      "execution_count": null,
      "outputs": []
    },
    {
      "cell_type": "code",
      "source": [
        "dados2"
      ],
      "metadata": {
        "colab": {
          "base_uri": "https://localhost:8080/"
        },
        "id": "xwSoaMvvXOnM",
        "outputId": "d0496848-56ff-49fe-e9a3-c53e66954c3e"
      },
      "execution_count": null,
      "outputs": [
        {
          "output_type": "execute_result",
          "data": {
            "text/plain": [
              "array([1. , 3. , 5. , 6.5, 7.2])"
            ]
          },
          "metadata": {},
          "execution_count": 13
        }
      ]
    },
    {
      "cell_type": "code",
      "source": [
        "lista2 = [[2,3,4,5,6],[1,2,3,6,7]]"
      ],
      "metadata": {
        "id": "VtD2AOamXU22"
      },
      "execution_count": null,
      "outputs": []
    },
    {
      "cell_type": "code",
      "source": [
        "dados3 = np.array(lista2)"
      ],
      "metadata": {
        "id": "mt8WDpMDXgzL"
      },
      "execution_count": null,
      "outputs": []
    },
    {
      "cell_type": "code",
      "source": [
        "dados3"
      ],
      "metadata": {
        "colab": {
          "base_uri": "https://localhost:8080/"
        },
        "id": "-fZ2JVNHXlIK",
        "outputId": "7043b489-5ef6-4a41-e7bb-25f9c9eafc9f"
      },
      "execution_count": null,
      "outputs": [
        {
          "output_type": "execute_result",
          "data": {
            "text/plain": [
              "array([[2, 3, 4, 5, 6],\n",
              "       [1, 2, 3, 6, 7]])"
            ]
          },
          "metadata": {},
          "execution_count": 17
        }
      ]
    },
    {
      "cell_type": "markdown",
      "source": [
        "**Outros arrays**"
      ],
      "metadata": {
        "id": "H1s-Z-q0YKw8"
      }
    },
    {
      "cell_type": "code",
      "source": [
        "dadoszero = np.zeros(10)"
      ],
      "metadata": {
        "id": "f7PlHvw5XoyZ"
      },
      "execution_count": null,
      "outputs": []
    },
    {
      "cell_type": "code",
      "source": [
        "dadoszero"
      ],
      "metadata": {
        "colab": {
          "base_uri": "https://localhost:8080/"
        },
        "id": "BaivB6bTYRqP",
        "outputId": "fa54a56b-c073-4fc9-c3a1-17a8f1cc948b"
      },
      "execution_count": null,
      "outputs": [
        {
          "output_type": "execute_result",
          "data": {
            "text/plain": [
              "array([0., 0., 0., 0., 0., 0., 0., 0., 0., 0.])"
            ]
          },
          "metadata": {},
          "execution_count": 19
        }
      ]
    },
    {
      "cell_type": "code",
      "source": [
        "dadoszero2 = np.zeros((2,3))"
      ],
      "metadata": {
        "id": "prVVsDMPYSwa"
      },
      "execution_count": null,
      "outputs": []
    },
    {
      "cell_type": "code",
      "source": [
        "dadoszero2"
      ],
      "metadata": {
        "colab": {
          "base_uri": "https://localhost:8080/"
        },
        "id": "QimEhftGYY41",
        "outputId": "59fe2410-7791-4253-8642-91a597ac8a35"
      },
      "execution_count": null,
      "outputs": [
        {
          "output_type": "execute_result",
          "data": {
            "text/plain": [
              "array([[0., 0., 0.],\n",
              "       [0., 0., 0.]])"
            ]
          },
          "metadata": {},
          "execution_count": 23
        }
      ]
    },
    {
      "cell_type": "code",
      "source": [
        "dadosum = np.ones(5)"
      ],
      "metadata": {
        "id": "ZGHNdWK3YaWN"
      },
      "execution_count": null,
      "outputs": []
    },
    {
      "cell_type": "code",
      "source": [
        "dadosum"
      ],
      "metadata": {
        "colab": {
          "base_uri": "https://localhost:8080/"
        },
        "id": "h_r6Wk_tYqCH",
        "outputId": "947ed245-3a42-415c-9e29-3d83500c7d09"
      },
      "execution_count": null,
      "outputs": [
        {
          "output_type": "execute_result",
          "data": {
            "text/plain": [
              "array([1., 1., 1., 1., 1.])"
            ]
          },
          "metadata": {},
          "execution_count": 25
        }
      ]
    },
    {
      "cell_type": "code",
      "source": [
        "dadosum2 = np.ones((2,3))"
      ],
      "metadata": {
        "id": "qzcy9t2IYrGs"
      },
      "execution_count": null,
      "outputs": []
    },
    {
      "cell_type": "code",
      "source": [
        "dadosum2"
      ],
      "metadata": {
        "colab": {
          "base_uri": "https://localhost:8080/"
        },
        "id": "IpiOyX9YYwe2",
        "outputId": "9022eed9-1721-4d8d-9028-f285b092bea8"
      },
      "execution_count": null,
      "outputs": [
        {
          "output_type": "execute_result",
          "data": {
            "text/plain": [
              "array([[1., 1., 1.],\n",
              "       [1., 1., 1.]])"
            ]
          },
          "metadata": {},
          "execution_count": 27
        }
      ]
    },
    {
      "cell_type": "code",
      "source": [
        "dadosseq = np.arange(10)"
      ],
      "metadata": {
        "id": "y5MryT7iYxqu"
      },
      "execution_count": null,
      "outputs": []
    },
    {
      "cell_type": "code",
      "source": [
        "dadosseq"
      ],
      "metadata": {
        "colab": {
          "base_uri": "https://localhost:8080/"
        },
        "id": "IfAP_66rZFns",
        "outputId": "78b2f3f0-3f3e-4b7d-c2f1-e1269c727268"
      },
      "execution_count": null,
      "outputs": [
        {
          "output_type": "execute_result",
          "data": {
            "text/plain": [
              "array([0, 1, 2, 3, 4, 5, 6, 7, 8, 9])"
            ]
          },
          "metadata": {},
          "execution_count": 29
        }
      ]
    },
    {
      "cell_type": "code",
      "source": [
        "dadosseq2 = np.arange(10,20)"
      ],
      "metadata": {
        "id": "9carQq3dZHB8"
      },
      "execution_count": null,
      "outputs": []
    },
    {
      "cell_type": "code",
      "source": [
        "dadosseq2"
      ],
      "metadata": {
        "colab": {
          "base_uri": "https://localhost:8080/"
        },
        "id": "kLJ9S_7bZNAP",
        "outputId": "a443818c-1ec9-4edc-e271-5ef86c5f8b7e"
      },
      "execution_count": null,
      "outputs": [
        {
          "output_type": "execute_result",
          "data": {
            "text/plain": [
              "array([10, 11, 12, 13, 14, 15, 16, 17, 18, 19])"
            ]
          },
          "metadata": {},
          "execution_count": 31
        }
      ]
    },
    {
      "cell_type": "code",
      "source": [
        "\n",
        "dadosseq3 = np.arange(0,20,2)"
      ],
      "metadata": {
        "id": "tcq6k0nWZOd3"
      },
      "execution_count": null,
      "outputs": []
    },
    {
      "cell_type": "code",
      "source": [
        "dadosseq3"
      ],
      "metadata": {
        "colab": {
          "base_uri": "https://localhost:8080/"
        },
        "id": "o8JlzGwhZZVN",
        "outputId": "a584e796-112b-415c-9d56-be0a5676d83b"
      },
      "execution_count": null,
      "outputs": [
        {
          "output_type": "execute_result",
          "data": {
            "text/plain": [
              "array([ 0,  2,  4,  6,  8, 10, 12, 14, 16, 18])"
            ]
          },
          "metadata": {},
          "execution_count": 33
        }
      ]
    },
    {
      "cell_type": "code",
      "source": [
        "dadosseq3.dtype"
      ],
      "metadata": {
        "colab": {
          "base_uri": "https://localhost:8080/"
        },
        "id": "6glwCu3aZasA",
        "outputId": "c95161f1-5113-4447-8fc8-2cf015bd80f4"
      },
      "execution_count": null,
      "outputs": [
        {
          "output_type": "execute_result",
          "data": {
            "text/plain": [
              "dtype('int64')"
            ]
          },
          "metadata": {},
          "execution_count": 34
        }
      ]
    },
    {
      "cell_type": "markdown",
      "source": [
        "# Transformar tipo da variável"
      ],
      "metadata": {
        "id": "l6ZXIzYHmyms"
      }
    },
    {
      "cell_type": "markdown",
      "source": [
        "**Transformar tipo da variável**"
      ],
      "metadata": {
        "id": "GJ1TRH7zZ1XL"
      }
    },
    {
      "cell_type": "code",
      "source": [
        "dadosseqflo = dadosseq3.astype(np.float64)"
      ],
      "metadata": {
        "id": "WAGIkxgWZpwW"
      },
      "execution_count": null,
      "outputs": []
    },
    {
      "cell_type": "code",
      "source": [
        "dadosseqflo.dtype"
      ],
      "metadata": {
        "colab": {
          "base_uri": "https://localhost:8080/"
        },
        "id": "V7Qi0KRQaFto",
        "outputId": "4d1cbadc-318c-4f32-83dd-78c6300f1900"
      },
      "execution_count": null,
      "outputs": [
        {
          "output_type": "execute_result",
          "data": {
            "text/plain": [
              "dtype('float64')"
            ]
          },
          "metadata": {},
          "execution_count": 36
        }
      ]
    },
    {
      "cell_type": "markdown",
      "source": [
        "# Aritméticas com array"
      ],
      "metadata": {
        "id": "eIkRBUj4m1_n"
      }
    },
    {
      "cell_type": "markdown",
      "source": [
        "**Aritméticas com array**"
      ],
      "metadata": {
        "id": "T1AzGH58aV8U"
      }
    },
    {
      "cell_type": "code",
      "source": [
        "dados4 = np.array([[1,2,3,4],[5,6,7,8]])"
      ],
      "metadata": {
        "id": "XCHoCm86aIei"
      },
      "execution_count": null,
      "outputs": []
    },
    {
      "cell_type": "code",
      "source": [
        "dados4"
      ],
      "metadata": {
        "colab": {
          "base_uri": "https://localhost:8080/"
        },
        "id": "JIBHEAPJaonv",
        "outputId": "aca95950-e7fd-4a78-bb57-ac32a768d8d9"
      },
      "execution_count": null,
      "outputs": [
        {
          "output_type": "execute_result",
          "data": {
            "text/plain": [
              "array([[1, 2, 3, 4],\n",
              "       [5, 6, 7, 8]])"
            ]
          },
          "metadata": {},
          "execution_count": 41
        }
      ]
    },
    {
      "cell_type": "markdown",
      "source": [
        "As operações irá calcular os elementos na mesma posição"
      ],
      "metadata": {
        "id": "Xv3elFaVa-ZB"
      }
    },
    {
      "cell_type": "code",
      "source": [
        "dados4 * dados4"
      ],
      "metadata": {
        "colab": {
          "base_uri": "https://localhost:8080/"
        },
        "id": "K0dnHZOVauSP",
        "outputId": "89012e3b-370c-48e8-8673-e40a91c68291"
      },
      "execution_count": null,
      "outputs": [
        {
          "output_type": "execute_result",
          "data": {
            "text/plain": [
              "array([[ 1,  4,  9, 16],\n",
              "       [25, 36, 49, 64]])"
            ]
          },
          "metadata": {},
          "execution_count": 44
        }
      ]
    },
    {
      "cell_type": "code",
      "source": [
        "dados4 - dados4"
      ],
      "metadata": {
        "colab": {
          "base_uri": "https://localhost:8080/"
        },
        "id": "AwJXr6EVbFsy",
        "outputId": "c4ff0772-bde6-4e63-f716-df0ef0868dbb"
      },
      "execution_count": null,
      "outputs": [
        {
          "output_type": "execute_result",
          "data": {
            "text/plain": [
              "array([[0, 0, 0, 0],\n",
              "       [0, 0, 0, 0]])"
            ]
          },
          "metadata": {},
          "execution_count": 45
        }
      ]
    },
    {
      "cell_type": "code",
      "source": [
        "dados4 + dados4"
      ],
      "metadata": {
        "colab": {
          "base_uri": "https://localhost:8080/"
        },
        "id": "5sRqpOh0bLq0",
        "outputId": "423160f8-4471-436c-8b27-e9ae912891a0"
      },
      "execution_count": null,
      "outputs": [
        {
          "output_type": "execute_result",
          "data": {
            "text/plain": [
              "array([[ 2,  4,  6,  8],\n",
              "       [10, 12, 14, 16]])"
            ]
          },
          "metadata": {},
          "execution_count": 46
        }
      ]
    },
    {
      "cell_type": "code",
      "source": [
        "dados4 / dados4"
      ],
      "metadata": {
        "colab": {
          "base_uri": "https://localhost:8080/"
        },
        "id": "eP5_mvg_bOGx",
        "outputId": "833a6dad-da59-4b8f-c471-fc7cb865dec7"
      },
      "execution_count": null,
      "outputs": [
        {
          "output_type": "execute_result",
          "data": {
            "text/plain": [
              "array([[1., 1., 1., 1.],\n",
              "       [1., 1., 1., 1.]])"
            ]
          },
          "metadata": {},
          "execution_count": 47
        }
      ]
    },
    {
      "cell_type": "code",
      "source": [
        "2/dados4"
      ],
      "metadata": {
        "colab": {
          "base_uri": "https://localhost:8080/"
        },
        "id": "ajirq81NbUkZ",
        "outputId": "8a8904ca-2b77-4f2d-b58f-40ca5a6fd535"
      },
      "execution_count": null,
      "outputs": [
        {
          "output_type": "execute_result",
          "data": {
            "text/plain": [
              "array([[2.        , 1.        , 0.66666667, 0.5       ],\n",
              "       [0.4       , 0.33333333, 0.28571429, 0.25      ]])"
            ]
          },
          "metadata": {},
          "execution_count": 48
        }
      ]
    },
    {
      "cell_type": "markdown",
      "source": [
        "Criar nova variavel e comparar"
      ],
      "metadata": {
        "id": "QgntBII7bsSD"
      }
    },
    {
      "cell_type": "code",
      "source": [
        "dados5 = dados4 + dados4"
      ],
      "metadata": {
        "id": "EYV9hh9HbhWM"
      },
      "execution_count": null,
      "outputs": []
    },
    {
      "cell_type": "code",
      "source": [
        "dados5"
      ],
      "metadata": {
        "colab": {
          "base_uri": "https://localhost:8080/"
        },
        "id": "yIBfIZADb1EP",
        "outputId": "323453ba-fe3b-4928-cbc2-8e2bc534e91e"
      },
      "execution_count": null,
      "outputs": [
        {
          "output_type": "execute_result",
          "data": {
            "text/plain": [
              "array([[ 2,  4,  6,  8],\n",
              "       [10, 12, 14, 16]])"
            ]
          },
          "metadata": {},
          "execution_count": 50
        }
      ]
    },
    {
      "cell_type": "code",
      "source": [
        "dados4 >= dados5"
      ],
      "metadata": {
        "colab": {
          "base_uri": "https://localhost:8080/"
        },
        "id": "7bSZq-62b2QF",
        "outputId": "9065cf4a-5b4e-4ae7-f17b-8481e11583f9"
      },
      "execution_count": null,
      "outputs": [
        {
          "output_type": "execute_result",
          "data": {
            "text/plain": [
              "array([[False, False, False, False],\n",
              "       [False, False, False, False]])"
            ]
          },
          "metadata": {},
          "execution_count": 52
        }
      ]
    },
    {
      "cell_type": "markdown",
      "source": [
        "# INDEXACAO"
      ],
      "metadata": {
        "id": "brNAHLrPm6M6"
      }
    },
    {
      "cell_type": "markdown",
      "source": [
        "**INDEXACAO**"
      ],
      "metadata": {
        "id": "58agxusScF4J"
      }
    },
    {
      "cell_type": "markdown",
      "source": [
        "mostrar valor em um elemento"
      ],
      "metadata": {
        "id": "zxhwruJYcTLN"
      }
    },
    {
      "cell_type": "code",
      "source": [
        "dadosseq2"
      ],
      "metadata": {
        "colab": {
          "base_uri": "https://localhost:8080/"
        },
        "id": "0yRYTkeUb5Gh",
        "outputId": "9dade154-5aa3-4767-e65e-88765048c661"
      },
      "execution_count": null,
      "outputs": [
        {
          "output_type": "execute_result",
          "data": {
            "text/plain": [
              "array([10, 11, 12, 13, 14, 15, 16, 17, 18, 19])"
            ]
          },
          "metadata": {},
          "execution_count": 53
        }
      ]
    },
    {
      "cell_type": "code",
      "source": [
        "dadosseq2 [5]"
      ],
      "metadata": {
        "colab": {
          "base_uri": "https://localhost:8080/"
        },
        "id": "Oadjze3hcXPY",
        "outputId": "8f572c35-c211-445f-da99-001bbfbc092f"
      },
      "execution_count": null,
      "outputs": [
        {
          "output_type": "execute_result",
          "data": {
            "text/plain": [
              "15"
            ]
          },
          "metadata": {},
          "execution_count": 54
        }
      ]
    },
    {
      "cell_type": "markdown",
      "source": [
        "# Alteração de recortes dos dados, ND array broadcast"
      ],
      "metadata": {
        "id": "elpWWRnym_HO"
      }
    },
    {
      "cell_type": "markdown",
      "source": [
        "**Alteração de recortes dos dados, ND array broadcast**"
      ],
      "metadata": {
        "id": "DI0zeilldE5O"
      }
    },
    {
      "cell_type": "markdown",
      "source": [
        "mostra os dados em um intervalo especificado"
      ],
      "metadata": {
        "id": "L80AIWTSdZsj"
      }
    },
    {
      "cell_type": "code",
      "source": [
        "dadosseq [3:6]"
      ],
      "metadata": {
        "colab": {
          "base_uri": "https://localhost:8080/"
        },
        "id": "IzB4DTuccaW_",
        "outputId": "a25758ed-fe9c-4eb7-d775-6469b03b0ffc"
      },
      "execution_count": null,
      "outputs": [
        {
          "output_type": "execute_result",
          "data": {
            "text/plain": [
              "array([3, 4, 5])"
            ]
          },
          "metadata": {},
          "execution_count": 55
        }
      ]
    },
    {
      "cell_type": "markdown",
      "source": [
        "altera os dados nesse recorte da lista"
      ],
      "metadata": {
        "id": "lLHNAqMIdWo4"
      }
    },
    {
      "cell_type": "code",
      "source": [
        "dadosseq [3:6]=20"
      ],
      "metadata": {
        "id": "Ii1rmwlXdQes"
      },
      "execution_count": null,
      "outputs": []
    },
    {
      "cell_type": "code",
      "source": [
        "dadosseq"
      ],
      "metadata": {
        "colab": {
          "base_uri": "https://localhost:8080/"
        },
        "id": "GxNDVt8KdVS4",
        "outputId": "7b21d55b-f6f9-4eac-ae6c-f74bd4b39f12"
      },
      "execution_count": null,
      "outputs": [
        {
          "output_type": "execute_result",
          "data": {
            "text/plain": [
              "array([ 0,  1,  2, 20, 20, 20,  6,  7,  8,  9])"
            ]
          },
          "metadata": {},
          "execution_count": 57
        }
      ]
    },
    {
      "cell_type": "markdown",
      "source": [
        "fatiar trecho dos dados"
      ],
      "metadata": {
        "id": "bvRfzc2ydsFA"
      }
    },
    {
      "cell_type": "code",
      "source": [
        "fatiadados = dadosseq [2:8]"
      ],
      "metadata": {
        "id": "ci05KBRSdetw"
      },
      "execution_count": null,
      "outputs": []
    },
    {
      "cell_type": "code",
      "source": [
        "fatiadados"
      ],
      "metadata": {
        "colab": {
          "base_uri": "https://localhost:8080/"
        },
        "id": "69_TYuZId09T",
        "outputId": "b86b3503-06d2-466a-eccb-71da024bc2d8"
      },
      "execution_count": null,
      "outputs": [
        {
          "output_type": "execute_result",
          "data": {
            "text/plain": [
              "array([ 2, 20, 20, 20,  6,  7])"
            ]
          },
          "metadata": {},
          "execution_count": 61
        }
      ]
    },
    {
      "cell_type": "markdown",
      "source": [
        "quando alterado um dado numa fatia, altera no todo"
      ],
      "metadata": {
        "id": "dLO4DBS8eY8w"
      }
    },
    {
      "cell_type": "code",
      "source": [
        "fatiadados [2]=250"
      ],
      "metadata": {
        "id": "_Cso4fx3d3XH"
      },
      "execution_count": null,
      "outputs": []
    },
    {
      "cell_type": "code",
      "source": [
        "fatiadados"
      ],
      "metadata": {
        "colab": {
          "base_uri": "https://localhost:8080/"
        },
        "id": "G_hXvGKVehtg",
        "outputId": "dd5c34f2-0745-4e63-9f85-1a754e000c1c"
      },
      "execution_count": null,
      "outputs": [
        {
          "output_type": "execute_result",
          "data": {
            "text/plain": [
              "array([  2,  20, 250,  20,   6,   7])"
            ]
          },
          "metadata": {},
          "execution_count": 63
        }
      ]
    },
    {
      "cell_type": "markdown",
      "source": [
        "uma fatia pode alterar todos seu elementos, alterando tambem o escopo"
      ],
      "metadata": {
        "id": "zRJ-P4ipfcm1"
      }
    },
    {
      "cell_type": "code",
      "source": [
        "fatiadados [:]=333"
      ],
      "metadata": {
        "id": "wGz7U2OIejF3"
      },
      "execution_count": null,
      "outputs": []
    },
    {
      "cell_type": "code",
      "source": [
        "dadosseq"
      ],
      "metadata": {
        "colab": {
          "base_uri": "https://localhost:8080/"
        },
        "id": "VCtY8JxsfW-C",
        "outputId": "bdf3648d-9e55-4edf-fe60-8de3712a95e5"
      },
      "execution_count": null,
      "outputs": [
        {
          "output_type": "execute_result",
          "data": {
            "text/plain": [
              "array([  0,   1, 333, 333, 333, 333, 333, 333,   8,   9])"
            ]
          },
          "metadata": {},
          "execution_count": 85
        }
      ]
    },
    {
      "cell_type": "markdown",
      "source": [
        "# Cópia da Dados"
      ],
      "metadata": {
        "id": "KDwt4JD6nC-t"
      }
    },
    {
      "cell_type": "markdown",
      "source": [
        "**Cópia da Dados**"
      ],
      "metadata": {
        "id": "NES_gYlhfn1Q"
      }
    },
    {
      "cell_type": "code",
      "source": [
        "fatia2 = dadosseq [2:7].copy()"
      ],
      "metadata": {
        "id": "2AcR5irzhCS_"
      },
      "execution_count": null,
      "outputs": []
    },
    {
      "cell_type": "code",
      "source": [
        "fatia2"
      ],
      "metadata": {
        "colab": {
          "base_uri": "https://localhost:8080/"
        },
        "id": "kywttyPqhM-y",
        "outputId": "22f0a7f8-385a-46e2-a8d8-92518607d308"
      },
      "execution_count": null,
      "outputs": [
        {
          "output_type": "execute_result",
          "data": {
            "text/plain": [
              "array([333, 333, 333, 333, 333])"
            ]
          },
          "metadata": {},
          "execution_count": 88
        }
      ]
    },
    {
      "cell_type": "code",
      "source": [
        "fatia2 [:]=100"
      ],
      "metadata": {
        "id": "WHltS4IlhRd6"
      },
      "execution_count": null,
      "outputs": []
    },
    {
      "cell_type": "code",
      "source": [
        "fatia2"
      ],
      "metadata": {
        "colab": {
          "base_uri": "https://localhost:8080/"
        },
        "id": "tM8fBdB3hV8b",
        "outputId": "f2398092-a8e9-4999-afc9-0f6061d68e61"
      },
      "execution_count": null,
      "outputs": [
        {
          "output_type": "execute_result",
          "data": {
            "text/plain": [
              "array([100, 100, 100, 100, 100])"
            ]
          },
          "metadata": {},
          "execution_count": 90
        }
      ]
    },
    {
      "cell_type": "markdown",
      "source": [
        "Como foi alterado uma cópia, nao altera o escopo original"
      ],
      "metadata": {
        "id": "pfqnjNjAhcI3"
      }
    },
    {
      "cell_type": "code",
      "source": [
        "dadosseq"
      ],
      "metadata": {
        "colab": {
          "base_uri": "https://localhost:8080/"
        },
        "id": "8hNl7cVuhXym",
        "outputId": "19987420-1406-4ff5-847c-f3a7cb65a4a4"
      },
      "execution_count": null,
      "outputs": [
        {
          "output_type": "execute_result",
          "data": {
            "text/plain": [
              "array([  0,   1, 333, 333, 333, 333, 333, 333,   8,   9])"
            ]
          },
          "metadata": {},
          "execution_count": 91
        }
      ]
    },
    {
      "cell_type": "markdown",
      "source": [
        "# Array várias Dimensões"
      ],
      "metadata": {
        "id": "kQ4KVqw2nGIX"
      }
    },
    {
      "cell_type": "markdown",
      "source": [
        "**Array várias Dimensões**"
      ],
      "metadata": {
        "id": "5pmAebuchxTg"
      }
    },
    {
      "cell_type": "code",
      "source": [
        "dados6 = np.array([[1,2,3],[5,6,7],[8,9,10]])"
      ],
      "metadata": {
        "id": "mIOTfz6MhZRQ"
      },
      "execution_count": null,
      "outputs": []
    },
    {
      "cell_type": "code",
      "source": [
        "dados6"
      ],
      "metadata": {
        "colab": {
          "base_uri": "https://localhost:8080/"
        },
        "id": "aT2xMKtWie22",
        "outputId": "d876dd9b-d6a9-448e-b447-35e544524745"
      },
      "execution_count": null,
      "outputs": [
        {
          "output_type": "execute_result",
          "data": {
            "text/plain": [
              "array([[ 1,  2,  3],\n",
              "       [ 5,  6,  7],\n",
              "       [ 8,  9, 10]])"
            ]
          },
          "metadata": {},
          "execution_count": 93
        }
      ]
    },
    {
      "cell_type": "markdown",
      "source": [
        "Exibir elemento: [linha,coluna]"
      ],
      "metadata": {
        "id": "yRcA_KK6imId"
      }
    },
    {
      "cell_type": "code",
      "source": [
        "dados6 [1,2]"
      ],
      "metadata": {
        "colab": {
          "base_uri": "https://localhost:8080/"
        },
        "id": "3U3NsP25igOZ",
        "outputId": "9a446cf7-143d-4917-a534-3f6392392767"
      },
      "execution_count": null,
      "outputs": [
        {
          "output_type": "execute_result",
          "data": {
            "text/plain": [
              "7"
            ]
          },
          "metadata": {},
          "execution_count": 94
        }
      ]
    },
    {
      "cell_type": "markdown",
      "source": [
        "# Mascara: comparações"
      ],
      "metadata": {
        "id": "8wzp1bNdnJVy"
      }
    },
    {
      "cell_type": "markdown",
      "source": [
        "**Mascara: comparações**"
      ],
      "metadata": {
        "id": "Hnf85rlwi2SM"
      }
    },
    {
      "cell_type": "code",
      "source": [
        "dadosseq"
      ],
      "metadata": {
        "colab": {
          "base_uri": "https://localhost:8080/"
        },
        "id": "N_897upzik6j",
        "outputId": "dd19d715-9cd2-4ec0-9452-4ecddb90cb30"
      },
      "execution_count": null,
      "outputs": [
        {
          "output_type": "execute_result",
          "data": {
            "text/plain": [
              "array([  0,   1, 333, 333, 333, 333, 333, 333,   8,   9])"
            ]
          },
          "metadata": {},
          "execution_count": 95
        }
      ]
    },
    {
      "cell_type": "code",
      "source": [
        "mascara = (dadosseq < 10)"
      ],
      "metadata": {
        "id": "pMAZFPIPjFua"
      },
      "execution_count": null,
      "outputs": []
    },
    {
      "cell_type": "code",
      "source": [
        "mascara"
      ],
      "metadata": {
        "colab": {
          "base_uri": "https://localhost:8080/"
        },
        "id": "e5ICastOjKdZ",
        "outputId": "fd492a85-58a7-4560-83b5-8b53b8e292b7"
      },
      "execution_count": null,
      "outputs": [
        {
          "output_type": "execute_result",
          "data": {
            "text/plain": [
              "array([ True,  True, False, False, False, False, False, False,  True,\n",
              "        True])"
            ]
          },
          "metadata": {},
          "execution_count": 99
        }
      ]
    },
    {
      "cell_type": "markdown",
      "source": [
        "Alterar todos os valores com base numa comparação"
      ],
      "metadata": {
        "id": "FE6EpYgFjf6s"
      }
    },
    {
      "cell_type": "code",
      "source": [
        "comparacao = dadosseq [:].copy()"
      ],
      "metadata": {
        "id": "8yxWVi6qjL4I"
      },
      "execution_count": null,
      "outputs": []
    },
    {
      "cell_type": "code",
      "source": [
        "comparacao"
      ],
      "metadata": {
        "colab": {
          "base_uri": "https://localhost:8080/"
        },
        "id": "SKbp56xJjzAk",
        "outputId": "f1596558-a796-46af-b900-56a33091688d"
      },
      "execution_count": null,
      "outputs": [
        {
          "output_type": "execute_result",
          "data": {
            "text/plain": [
              "array([  0,   1, 333, 333, 333, 333, 333, 333,   8,   9])"
            ]
          },
          "metadata": {},
          "execution_count": 101
        }
      ]
    },
    {
      "cell_type": "code",
      "source": [
        "comparacao [comparacao < 10]=666"
      ],
      "metadata": {
        "id": "Y0IOTeq_j07U"
      },
      "execution_count": null,
      "outputs": []
    },
    {
      "cell_type": "code",
      "source": [
        "comparacao"
      ],
      "metadata": {
        "colab": {
          "base_uri": "https://localhost:8080/"
        },
        "id": "RZPZW6WRj9JQ",
        "outputId": "26dc16dd-f726-45f3-af04-3980e8e765d9"
      },
      "execution_count": null,
      "outputs": [
        {
          "output_type": "execute_result",
          "data": {
            "text/plain": [
              "array([666, 666, 333, 333, 333, 333, 333, 333, 666, 666])"
            ]
          },
          "metadata": {},
          "execution_count": 103
        }
      ]
    },
    {
      "cell_type": "code",
      "source": [
        "dadosseq"
      ],
      "metadata": {
        "colab": {
          "base_uri": "https://localhost:8080/"
        },
        "id": "TwbXIYgIj-g6",
        "outputId": "6c78798a-811a-41b8-dad2-f221d995bd83"
      },
      "execution_count": null,
      "outputs": [
        {
          "output_type": "execute_result",
          "data": {
            "text/plain": [
              "array([  0,   1, 333, 333, 333, 333, 333, 333,   8,   9])"
            ]
          },
          "metadata": {},
          "execution_count": 104
        }
      ]
    },
    {
      "cell_type": "markdown",
      "source": [
        "# Transposição: inverter matriz"
      ],
      "metadata": {
        "id": "mBv5LhK1nM6O"
      }
    },
    {
      "cell_type": "markdown",
      "source": [
        "**Transposição: inverter matriz**"
      ],
      "metadata": {
        "id": "3I0JBp-okFkT"
      }
    },
    {
      "cell_type": "code",
      "source": [
        "dados7 = np.arange(15).reshape ((3,5))"
      ],
      "metadata": {
        "id": "TRJpwZ7XkATl"
      },
      "execution_count": null,
      "outputs": []
    },
    {
      "cell_type": "code",
      "source": [
        "dados7"
      ],
      "metadata": {
        "colab": {
          "base_uri": "https://localhost:8080/"
        },
        "id": "M9ShUMV6kgng",
        "outputId": "c45eaadf-c94b-447e-f498-3dc9f0b0da8b"
      },
      "execution_count": null,
      "outputs": [
        {
          "output_type": "execute_result",
          "data": {
            "text/plain": [
              "array([[ 0,  1,  2,  3,  4],\n",
              "       [ 5,  6,  7,  8,  9],\n",
              "       [10, 11, 12, 13, 14]])"
            ]
          },
          "metadata": {},
          "execution_count": 107
        }
      ]
    },
    {
      "cell_type": "code",
      "source": [
        "dados7.T"
      ],
      "metadata": {
        "colab": {
          "base_uri": "https://localhost:8080/"
        },
        "id": "_zP2o91tklNk",
        "outputId": "24ccaa59-e690-471d-a3f3-44956450862b"
      },
      "execution_count": null,
      "outputs": [
        {
          "output_type": "execute_result",
          "data": {
            "text/plain": [
              "array([[ 0,  5, 10],\n",
              "       [ 1,  6, 11],\n",
              "       [ 2,  7, 12],\n",
              "       [ 3,  8, 13],\n",
              "       [ 4,  9, 14]])"
            ]
          },
          "metadata": {},
          "execution_count": 108
        }
      ]
    },
    {
      "cell_type": "markdown",
      "source": [
        "# Comando DOT para multiplicação"
      ],
      "metadata": {
        "id": "lF4rqkvXnRW8"
      }
    },
    {
      "cell_type": "markdown",
      "source": [
        "**Comando DOT para multiplicação**"
      ],
      "metadata": {
        "id": "iNdmw5Jhk4Fr"
      }
    },
    {
      "cell_type": "code",
      "source": [
        "np.dot(dados7.T , dados7)"
      ],
      "metadata": {
        "colab": {
          "base_uri": "https://localhost:8080/"
        },
        "id": "oq70ryRjknTf",
        "outputId": "6241983e-0da9-492b-a136-7c5f81ea29ad"
      },
      "execution_count": null,
      "outputs": [
        {
          "output_type": "execute_result",
          "data": {
            "text/plain": [
              "array([[125, 140, 155, 170, 185],\n",
              "       [140, 158, 176, 194, 212],\n",
              "       [155, 176, 197, 218, 239],\n",
              "       [170, 194, 218, 242, 266],\n",
              "       [185, 212, 239, 266, 293]])"
            ]
          },
          "metadata": {},
          "execution_count": 109
        }
      ]
    },
    {
      "cell_type": "code",
      "source": [],
      "metadata": {
        "id": "pIeeecVIlF-G"
      },
      "execution_count": null,
      "outputs": []
    }
  ]
}